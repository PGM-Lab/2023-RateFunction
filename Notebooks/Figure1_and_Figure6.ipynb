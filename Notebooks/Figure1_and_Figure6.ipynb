{
  "cells": [
    {
      "cell_type": "markdown",
      "metadata": {
        "id": "view-in-github",
        "colab_type": "text"
      },
      "source": [
        "<a href=\"https://colab.research.google.com/github/PGM-Lab/2023-RateFunction/blob/main/Notebooks/Figure1_and_Figure6.ipynb\" target=\"_parent\"><img src=\"https://colab.research.google.com/assets/colab-badge.svg\" alt=\"Open In Colab\"/></a>"
      ]
    },
    {
      "cell_type": "code",
      "execution_count": 1,
      "metadata": {
        "id": "vpQhjmnrOV9V"
      },
      "outputs": [],
      "source": [
        "import torch.nn as nn\n",
        "import torch.nn.functional as F\n",
        "import torch\n",
        "import torch.optim as optim\n",
        "from torchvision import datasets, transforms\n",
        "import numpy as np\n",
        "import torchvision\n",
        "from tqdm import tqdm\n",
        "\n",
        "from google.colab import files\n",
        "import pickle"
      ]
    },
    {
      "cell_type": "code",
      "execution_count": 2,
      "metadata": {
        "id": "nE8dGuROWik8"
      },
      "outputs": [],
      "source": [
        "\n",
        "import matplotlib.pyplot as plt\n",
        "import matplotlib\n",
        "matplotlib.rcParams['pdf.fonttype'] = 42\n",
        "matplotlib.rcParams['ps.fonttype'] = 42\n",
        "plt.rcParams['figure.figsize'] = (16, 9)\n",
        "fontsize = 26\n",
        "matplotlib.rcParams.update({'font.size': fontsize})\n",
        "from matplotlib.pyplot import figure"
      ]
    },
    {
      "cell_type": "code",
      "execution_count": 3,
      "metadata": {
        "colab": {
          "base_uri": "https://localhost:8080/"
        },
        "id": "9VnIpdveOZv_",
        "outputId": "100e8df8-741b-4908-f759-24590bbde669"
      },
      "outputs": [
        {
          "output_type": "stream",
          "name": "stderr",
          "text": [
            "/usr/local/lib/python3.8/dist-packages/torch/nn/_reduction.py:42: UserWarning: size_average and reduce args will be deprecated, please use reduction='none' instead.\n",
            "  warnings.warn(warning.format(ret))\n"
          ]
        }
      ],
      "source": [
        "criterion = nn.CrossEntropyLoss() # supervised classification loss\n",
        "criterion_nonreduced = nn.CrossEntropyLoss(reduce=False) # supervised classification loss"
      ]
    },
    {
      "cell_type": "code",
      "execution_count": 4,
      "metadata": {
        "colab": {
          "base_uri": "https://localhost:8080/"
        },
        "id": "YhvAg_yCB7Bn",
        "outputId": "eef82339-1f96-40c0-801a-aec2737aad65"
      },
      "outputs": [
        {
          "output_type": "stream",
          "name": "stdout",
          "text": [
            "Wed Aug 30 11:40:33 2023       \n",
            "+-----------------------------------------------------------------------------+\n",
            "| NVIDIA-SMI 525.85.12    Driver Version: 525.85.12    CUDA Version: 12.0     |\n",
            "|-------------------------------+----------------------+----------------------+\n",
            "| GPU  Name        Persistence-M| Bus-Id        Disp.A | Volatile Uncorr. ECC |\n",
            "| Fan  Temp  Perf  Pwr:Usage/Cap|         Memory-Usage | GPU-Util  Compute M. |\n",
            "|                               |                      |               MIG M. |\n",
            "|===============================+======================+======================|\n",
            "|   0  Tesla T4            Off  | 00000000:00:04.0 Off |                    0 |\n",
            "| N/A   58C    P8    10W /  70W |      0MiB / 15360MiB |      0%      Default |\n",
            "|                               |                      |                  N/A |\n",
            "+-------------------------------+----------------------+----------------------+\n",
            "                                                                               \n",
            "+-----------------------------------------------------------------------------+\n",
            "| Processes:                                                                  |\n",
            "|  GPU   GI   CI        PID   Type   Process name                  GPU Memory |\n",
            "|        ID   ID                                                   Usage      |\n",
            "|=============================================================================|\n",
            "|  No running processes found                                                 |\n",
            "+-----------------------------------------------------------------------------+\n"
          ]
        }
      ],
      "source": [
        "!nvidia-smi"
      ]
    },
    {
      "cell_type": "markdown",
      "metadata": {
        "id": "hOZQW7h14OVI"
      },
      "source": [
        "# Set-Up"
      ]
    },
    {
      "cell_type": "code",
      "execution_count": 5,
      "metadata": {
        "colab": {
          "base_uri": "https://localhost:8080/",
          "height": 35
        },
        "id": "at6_Z2IiOpo6",
        "outputId": "477fcfe9-d1e7-450c-94c0-d7b776f11c88"
      },
      "outputs": [
        {
          "output_type": "execute_result",
          "data": {
            "text/plain": [
              "'rs_2147483647_inception_lr_0.01_trainsize_50000_testsize_10000_niters_30000_batchsize_200_wd_0.01'"
            ],
            "application/vnd.google.colaboratory.intrinsic+json": {
              "type": "string"
            }
          },
          "metadata": {},
          "execution_count": 5
        }
      ],
      "source": [
        "# LENET parameters\n",
        "RANDOM_SEED = 2147483647\n",
        "LEARNING_RATE = 0.01 #0.0001 for MLP\n",
        "SUBSET_SIZE = 50000\n",
        "TEST_SUBSET_SIZE = 10000\n",
        "N_ITERS = 30000\n",
        "BATCH_SIZE = 200\n",
        "BATCH_SIZE_TEST = 1000\n",
        "\n",
        "\n",
        "IMG_SIZE = 32\n",
        "N_CLASSES = 10\n",
        "\n",
        "#Set to zero to disconnect L2.\n",
        "weight_decay = 0.01\n",
        "\n",
        "setting_name=f\"rs_{RANDOM_SEED}_inception_lr_{LEARNING_RATE}_trainsize_{SUBSET_SIZE}_testsize_{TEST_SUBSET_SIZE}_niters_{N_ITERS}_batchsize_{BATCH_SIZE}_wd_{weight_decay}\"\n",
        "setting_name"
      ]
    },
    {
      "cell_type": "code",
      "execution_count": 6,
      "metadata": {
        "id": "q2KFLA9LZ-fU"
      },
      "outputs": [],
      "source": [
        "use_cifar = True\n",
        "use_mnist = False"
      ]
    },
    {
      "cell_type": "markdown",
      "metadata": {
        "id": "Nyjb_iYxcdCR"
      },
      "source": [
        "# Data"
      ]
    },
    {
      "cell_type": "code",
      "execution_count": 7,
      "metadata": {
        "id": "oyY5vyIknfV1"
      },
      "outputs": [],
      "source": [
        "# setup devices\n",
        "torch.manual_seed(RANDOM_SEED)\n",
        "if torch.cuda.is_available():\n",
        "    device = torch.device(\"cuda:0\")\n",
        "    torch.cuda.manual_seed(RANDOM_SEED)\n",
        "else:\n",
        "    device = torch.device(\"cpu\")\n",
        "\n",
        "transforms = torchvision.transforms.Compose([torchvision.transforms.Resize((32, 32)),\n",
        "                                 torchvision.transforms.ToTensor()])\n",
        "\n",
        "transforms_crop = torchvision.transforms.Compose([\n",
        "    torchvision.transforms.RandomResizedCrop((32, 32),  scale=(0.8, 1.0), ratio=(0.9, 1.1)),\n",
        "                                 torchvision.transforms.ToTensor()])"
      ]
    },
    {
      "cell_type": "code",
      "execution_count": 8,
      "metadata": {
        "colab": {
          "base_uri": "https://localhost:8080/"
        },
        "id": "hYhOgxmZAHKT",
        "outputId": "2356df91-ec25-468b-d984-c4f99d4bd0ec"
      },
      "outputs": [
        {
          "output_type": "stream",
          "name": "stdout",
          "text": [
            "Wed Aug 30 11:40:33 2023       \n",
            "+-----------------------------------------------------------------------------+\n",
            "| NVIDIA-SMI 525.85.12    Driver Version: 525.85.12    CUDA Version: 12.0     |\n",
            "|-------------------------------+----------------------+----------------------+\n",
            "| GPU  Name        Persistence-M| Bus-Id        Disp.A | Volatile Uncorr. ECC |\n",
            "| Fan  Temp  Perf  Pwr:Usage/Cap|         Memory-Usage | GPU-Util  Compute M. |\n",
            "|                               |                      |               MIG M. |\n",
            "|===============================+======================+======================|\n",
            "|   0  Tesla T4            Off  | 00000000:00:04.0 Off |                    0 |\n",
            "| N/A   58C    P8    10W /  70W |      3MiB / 15360MiB |      0%      Default |\n",
            "|                               |                      |                  N/A |\n",
            "+-------------------------------+----------------------+----------------------+\n",
            "                                                                               \n",
            "+-----------------------------------------------------------------------------+\n",
            "| Processes:                                                                  |\n",
            "|  GPU   GI   CI        PID   Type   Process name                  GPU Memory |\n",
            "|        ID   ID                                                   Usage      |\n",
            "|=============================================================================|\n",
            "|  No running processes found                                                 |\n",
            "+-----------------------------------------------------------------------------+\n"
          ]
        }
      ],
      "source": [
        "!nvidia-smi"
      ]
    },
    {
      "cell_type": "code",
      "execution_count": 9,
      "metadata": {
        "colab": {
          "base_uri": "https://localhost:8080/"
        },
        "id": "HuuLUa9BZZ0a",
        "outputId": "41613f8b-bf5c-4fd4-f617-04910bb1cb01"
      },
      "outputs": [
        {
          "output_type": "stream",
          "name": "stdout",
          "text": [
            "Files already downloaded and verified\n",
            "Files already downloaded and verified\n"
          ]
        }
      ],
      "source": [
        "\n",
        "train_dataset = datasets.CIFAR10(root='cifar_data',\n",
        "                                train=True,\n",
        "                                transform=transforms,\n",
        "                                download=True)\n",
        "\n",
        "train_dataset_crop = datasets.CIFAR10(root='cifar_data',\n",
        "                                train=True,\n",
        "                                transform=transforms_crop,\n",
        "                                download=True)\n",
        "\n",
        "test_dataset = datasets.CIFAR10(root='cifar_data',\n",
        "                                train=False,\n",
        "                                transform=transforms)\n"
      ]
    },
    {
      "cell_type": "code",
      "execution_count": 10,
      "metadata": {
        "id": "AKzxbjRkcZ6f"
      },
      "outputs": [],
      "source": [
        "from torchvision.datasets import CIFAR10\n",
        "from torch.utils.data import DataLoader\n",
        "\n",
        "class CIFAR10Corrupted(CIFAR10):\n",
        "    def __init__(self, num_classes=10, **kwargs):\n",
        "        super().__init__(**kwargs)\n",
        "        self.n_classes = num_classes\n",
        "        self.corrupt_labels()\n",
        "\n",
        "    def corrupt_labels(self):\n",
        "        labels = np.array(self.targets)\n",
        "        np.random.seed(42)\n",
        "        rnd_labels = np.random.choice(self.n_classes, size = len(self.targets))\n",
        "        self.targets = rnd_labels.flatten()\n",
        "\n",
        "def get_cifar_dataloaders_corrupted():\n",
        "\n",
        "    trainset = CIFAR10Corrupted(root='cifar_data', train=True, download=True, transform=transforms)\n",
        "    return trainset\n"
      ]
    },
    {
      "cell_type": "code",
      "execution_count": 11,
      "metadata": {
        "colab": {
          "base_uri": "https://localhost:8080/"
        },
        "id": "T0pgcCb2cz9-",
        "outputId": "b8b8bef7-9cbc-4cf0-de71-2846417646ef"
      },
      "outputs": [
        {
          "output_type": "stream",
          "name": "stdout",
          "text": [
            "Files already downloaded and verified\n"
          ]
        }
      ],
      "source": [
        "train_dataset_shuffled = get_cifar_dataloaders_corrupted()"
      ]
    },
    {
      "cell_type": "code",
      "execution_count": 12,
      "metadata": {
        "id": "lnNG3-0DFLzZ"
      },
      "outputs": [],
      "source": [
        "train_dataset = torch.utils.data.Subset(train_dataset, list(range(0, SUBSET_SIZE)))\n",
        "train_dataset_crop = torch.utils.data.Subset(train_dataset_crop, list(range(0, SUBSET_SIZE)))\n",
        "train_dataset_shuffled = torch.utils.data.Subset(train_dataset_shuffled, list(range(0, SUBSET_SIZE)))\n",
        "\n",
        "test_dataset = torch.utils.data.Subset(test_dataset, list(range(0, TEST_SUBSET_SIZE)))"
      ]
    },
    {
      "cell_type": "code",
      "execution_count": 13,
      "metadata": {
        "id": "aE2kn6HxdsmT"
      },
      "outputs": [],
      "source": [
        "\n",
        "test_loader_batch = torch.utils.data.DataLoader(dataset=test_dataset,\n",
        "                          batch_size=BATCH_SIZE_TEST,\n",
        "                          shuffle=False)"
      ]
    },
    {
      "cell_type": "markdown",
      "metadata": {
        "id": "p-AEyg-h4SAT"
      },
      "source": [
        "# Model"
      ]
    },
    {
      "cell_type": "code",
      "execution_count": 14,
      "metadata": {
        "id": "sYSL8QPp945J"
      },
      "outputs": [],
      "source": [
        "class ConvModule(nn.Module):\n",
        "    def __init__(self, in_channels, out_channels, kernel_size, stride, padding):\n",
        "        super(ConvModule, self).__init__()\n",
        "\n",
        "        self.conv = nn.Conv2d(in_channels, out_channels, kernel_size, stride, padding)\n",
        "        self.bn = nn.BatchNorm2d(out_channels)\n",
        "        self.act = nn.ReLU()\n",
        "\n",
        "    def forward(self, x):\n",
        "        x = self.conv(x)\n",
        "        x = self.bn(x)\n",
        "        x = self.act(x)\n",
        "        return x\n",
        "\n",
        "class InceptionModule(nn.Module):\n",
        "\n",
        "    def __init__(self, in_channels, f_1x1, f_3x3):\n",
        "        super(InceptionModule, self).__init__()\n",
        "\n",
        "        self.branch1 = nn.Sequential(\n",
        "            ConvModule(in_channels, f_1x1, kernel_size=1, stride=1, padding=0)\n",
        "        )\n",
        "\n",
        "        self.branch2 = nn.Sequential(\n",
        "            ConvModule(in_channels, f_3x3, kernel_size=3, stride=1, padding=1)\n",
        "        )\n",
        "\n",
        "    def forward(self, x):\n",
        "        branch1 = self.branch1(x)\n",
        "        branch2 = self.branch2(x)\n",
        "        return torch.cat([branch1, branch2], 1)\n",
        "\n",
        "\n",
        "class DownsampleModule(nn.Module):\n",
        "    def __init__(self, in_channels, f_3x3):\n",
        "        super(DownsampleModule, self).__init__()\n",
        "\n",
        "        self.branch1 = nn.Sequential(ConvModule(in_channels, f_3x3, kernel_size=3, stride=2, padding=0))\n",
        "        self.branch2 = nn.MaxPool2d(3, stride=2)\n",
        "\n",
        "    def forward(self, x):\n",
        "        branch1 = self.branch1(x)\n",
        "        branch2 = self.branch2(x)\n",
        "        return torch.cat([branch1, branch2], 1)\n",
        "\n",
        "class InceptionNet(nn.Module):\n",
        "    def __init__(self, num_classes, input_channels):\n",
        "        super().__init__()\n",
        "\n",
        "        self.conv1 = ConvModule(in_channels =input_channels,out_channels=96, kernel_size=3, stride=1, padding=0)\n",
        "        self.inception1 = InceptionModule(in_channels=96,f_1x1=32,f_3x3=32)\n",
        "        self.inception2 = InceptionModule(in_channels=64,f_1x1=32,f_3x3=48)\n",
        "        self.down1 = DownsampleModule(in_channels=80,f_3x3=80)\n",
        "        self.inception3 = InceptionModule(in_channels=160,f_1x1=112,f_3x3=48)\n",
        "        self.inception4 = InceptionModule(in_channels=160,f_1x1=96,f_3x3=64)\n",
        "        self.inception5 = InceptionModule(in_channels=160,f_1x1=80,f_3x3=80)\n",
        "        self.inception6 = InceptionModule(in_channels=160,f_1x1=48,f_3x3=96)\n",
        "        self.down2 = DownsampleModule(in_channels=144,f_3x3=96)\n",
        "        self.inception7 = InceptionModule(in_channels=240,f_1x1=176,f_3x3=160)\n",
        "        self.inception8 = InceptionModule(in_channels=336,f_1x1=176,f_3x3=160)\n",
        "        self.meanpool = nn.AdaptiveAvgPool2d((7,7))\n",
        "        self.fc = nn.Linear(16464, num_classes)\n",
        "\n",
        "    def forward(self, x):\n",
        "        x = self.conv1(x)\n",
        "        x = self.inception1(x)\n",
        "        x = self.inception2(x)\n",
        "        x = self.down1(x)\n",
        "        x = self.inception3(x)\n",
        "        x = self.inception4(x)\n",
        "        x = self.inception5(x)\n",
        "        x = self.inception6(x)\n",
        "        x = self.down2(x)\n",
        "        x = self.inception7(x)\n",
        "        x = self.inception8(x)\n",
        "        x = self.meanpool(x)\n",
        "        x = torch.flatten(x,1)\n",
        "        x = self.fc(x)\n",
        "        return x"
      ]
    },
    {
      "cell_type": "code",
      "execution_count": 15,
      "metadata": {
        "id": "D9Ygyi95osQa"
      },
      "outputs": [],
      "source": [
        "from torchvision.models import resnet50\n",
        "\n",
        "def createmodel():\n",
        "  return InceptionNet(10, train_dataset[0][0].shape[0])"
      ]
    },
    {
      "cell_type": "markdown",
      "metadata": {
        "id": "YqfrWKuM4UBv"
      },
      "source": [
        "# Code"
      ]
    },
    {
      "cell_type": "code",
      "execution_count": 16,
      "metadata": {
        "id": "5wRVeGLDi_aE"
      },
      "outputs": [],
      "source": [
        "def get_log_p(device, model, loader):\n",
        "    cce = nn.CrossEntropyLoss(reduction = \"none\") # supervised classification loss\n",
        "    model.eval()\n",
        "    aux = []\n",
        "    with torch.no_grad():\n",
        "      for data, targets in loader:\n",
        "          data = data.to(device)\n",
        "          targets = targets.to(device)\n",
        "          logits = model(data)\n",
        "          probs = F.softmax(logits, dim=1)\n",
        "          log_p = -cce(logits, targets) # supervised loss\n",
        "          aux.append(log_p)\n",
        "    return torch.cat(aux)"
      ]
    },
    {
      "cell_type": "code",
      "execution_count": 17,
      "metadata": {
        "id": "1v5qR0R-bufv"
      },
      "outputs": [],
      "source": [
        "#Binary Search for lambdas\n",
        "def rate_function_BS(model, s_value):\n",
        "  if (s_value<0):\n",
        "    min_lamb=torch.tensor(-10000).to(device)\n",
        "    max_lamb=torch.tensor(0).to(device)\n",
        "  else:\n",
        "    min_lamb=torch.tensor(0).to(device)\n",
        "    max_lamb=torch.tensor(10000).to(device)\n",
        "\n",
        "  s_value=torch.tensor(s_value).to(device)\n",
        "  log_p = get_log_p(device, model, test_loader_batch)\n",
        "  return aux_rate_function_TernarySearch(log_p, s_value, min_lamb, max_lamb, 0.001)\n",
        "\n",
        "def eval_log_p(log_p, lamb, s_value):\n",
        "  jensen_val=(torch.logsumexp(lamb * log_p, 0) - torch.log(torch.tensor(log_p.shape[0], device = device)) - lamb *torch.mean(log_p))\n",
        "  return lamb*s_value - jensen_val\n",
        "\n",
        "def aux_rate_function_BinarySearch(log_p, s_value, low, high, epsilon):\n",
        "\n",
        "  while (high - low) > epsilon:\n",
        "      mid = (low + high) / 2\n",
        "      print(mid)\n",
        "      print(eval_log_p(log_p, low, s_value))\n",
        "      print(eval_log_p(log_p, mid, s_value))\n",
        "      print(eval_log_p(log_p, high, s_value))\n",
        "      print(\"--\")\n",
        "      if eval_log_p(log_p, mid, s_value) < eval_log_p(log_p, high, s_value):\n",
        "          low = mid\n",
        "      else:\n",
        "          high = mid\n",
        "\n",
        "  # Return the midpoint of the final range\n",
        "  mid = (low + high) / 2\n",
        "  return [eval_log_p(log_p, mid, s_value).detach().cpu().numpy(), mid.detach().cpu().numpy(), (mid*s_value - eval_log_p(log_p, mid, s_value)).detach().cpu().numpy()]\n",
        "\n",
        "\n",
        "def aux_rate_function_TernarySearch(log_p, s_value, low, high, epsilon):\n",
        "\n",
        "  while (high - low) > epsilon:\n",
        "    mid1 = low + (high - low) / 3\n",
        "    mid2 = high - (high - low) / 3\n",
        "\n",
        "    if eval_log_p(log_p, mid1, s_value) < eval_log_p(log_p, mid2, s_value):\n",
        "        low = mid1\n",
        "    else:\n",
        "        high = mid2\n",
        "\n",
        "  # Return the midpoint of the final range\n",
        "  mid = (low + high) / 2\n",
        "  return [eval_log_p(log_p, mid, s_value).detach().cpu().numpy(), mid.detach().cpu().numpy(), (mid*s_value - eval_log_p(log_p, mid, s_value)).detach().cpu().numpy()]\n",
        "\n",
        "import math\n",
        "def aux_rate_function_golden_section_search(log_p, s_value, a, b, epsilon):\n",
        "    \"\"\"\n",
        "    Maximizes a univariate function using the golden section search algorithm.\n",
        "\n",
        "    Parameters:\n",
        "        f (function): The function to minimize.\n",
        "        a (float): The left endpoint of the initial search interval.\n",
        "        b (float): The right endpoint of the initial search interval.\n",
        "        tol (float): The error tolerance value.\n",
        "\n",
        "    Returns:\n",
        "        float: The x-value that minimizes the function f.\n",
        "    \"\"\"\n",
        "    # Define the golden ratio\n",
        "    golden_ratio = (torch.sqrt(torch.tensor(5).to(device)) - 1) / 2\n",
        "\n",
        "    # Define the initial points\n",
        "    c = b - golden_ratio * (b - a)\n",
        "    d = a + golden_ratio * (b - a)\n",
        "\n",
        "    # Loop until the interval is small enough\n",
        "    while abs(c - d) > epsilon:\n",
        "        # Compute the function values at the new points\n",
        "        fc = eval_log_p(log_p, c, s_value)\n",
        "        fd = eval_log_p(log_p, d, s_value)\n",
        "\n",
        "        # Update the interval based on the function values\n",
        "        if fc > fd:\n",
        "            b = d\n",
        "            d = c\n",
        "            c = b - golden_ratio * (b - a)\n",
        "        else:\n",
        "            a = c\n",
        "            c = d\n",
        "            d = a + golden_ratio * (b - a)\n",
        "\n",
        "    # Return the midpoint of the final interval\n",
        "    mid = (a + b) / 2\n",
        "    return [eval_log_p(log_p, mid, s_value).detach().cpu().numpy(), mid.detach().cpu().numpy(), (mid*s_value - eval_log_p(log_p, mid, s_value)).detach().cpu().numpy()]\n"
      ]
    },
    {
      "cell_type": "code",
      "execution_count": 18,
      "metadata": {
        "id": "dGONELLhjFaN"
      },
      "outputs": [],
      "source": [
        "def eval_jensen(model, lambdas):\n",
        "  log_p = get_log_p(device, model, test_loader_batch)\n",
        "  return np.array(\n",
        "      [\n",
        "          (torch.logsumexp(lamb * log_p, 0) - torch.log(torch.tensor(log_p.shape[0], device = device)) - torch.mean(lamb * log_p)).detach().cpu().numpy() for lamb in lambdas\n",
        "       ])\n",
        "\n",
        "def inverse_rate_function(model, lambdas, rate_vals):\n",
        "  jensen_vals = eval_jensen(model, lambdas)\n",
        "\n",
        "  return np.array([ np.min((jensen_vals + rate)/lambdas) for rate in rate_vals])\n"
      ]
    },
    {
      "cell_type": "code",
      "execution_count": 19,
      "metadata": {
        "id": "2Pqy_Nh8QbgR"
      },
      "outputs": [],
      "source": [
        "def eval(device, model, loader, criterion):\n",
        "    correct = 0\n",
        "    total = 0\n",
        "    losses = []\n",
        "    model.eval()\n",
        "    with torch.no_grad():\n",
        "        for data, targets in loader:\n",
        "            total += targets.size(0)\n",
        "            data = data.to(device)\n",
        "            targets = targets.to(device)\n",
        "            logits = model(data)\n",
        "            probs = F.softmax(logits, dim=1)\n",
        "            predicted = torch.argmax(probs, 1)\n",
        "            correct += (predicted == targets).sum().detach().cpu().numpy()\n",
        "\n",
        "            loss = criterion(logits, targets) # supervised loss\n",
        "            losses.append(loss.detach().cpu().numpy())\n",
        "\n",
        "    return correct, total, np.mean(losses), np.var(losses)"
      ]
    },
    {
      "cell_type": "code",
      "execution_count": 20,
      "metadata": {
        "id": "7-3kJ8CWP51-"
      },
      "outputs": [],
      "source": [
        "SKIP=False\n",
        "lambdas = np.arange(-10, 10, 0.01)\n",
        "\n",
        "def train(model, train_loader, weight_decay=0):\n",
        "\n",
        "    optimizer = optim.Adam(model.parameters(), lr=LEARNING_RATE)\n",
        "    optimizer = optim.SGD(model.parameters(), lr=LEARNING_RATE, momentum=0.9)\n",
        "    scheduler = torch.optim.lr_scheduler.ExponentialLR(optimizer, gamma=0.95, verbose = False)\n",
        "    data_iter = iter(train_loader)\n",
        "    iters_per_epoch = len(data_iter)\n",
        "    aux_loss = 1\n",
        "    tq = tqdm(range(N_ITERS))\n",
        "    for it in tq:\n",
        "\n",
        "            model.train()\n",
        "\n",
        "            try:\n",
        "                inputs, target = next(data_iter)\n",
        "            except StopIteration:\n",
        "                # StopIteration is thrown if dataset ends\n",
        "                # reinitialize data loader\n",
        "                data_iter = iter(train_loader)\n",
        "                inputs, target = next(data_iter)\n",
        "\n",
        "\n",
        "            inputs = inputs.to(device)\n",
        "            target = target.to(device)\n",
        "\n",
        "            optimizer.zero_grad()\n",
        "\n",
        "            logits = model(inputs) # forward pass\n",
        "\n",
        "            loss = criterion(logits, target) # supervised loss\n",
        "            aux_loss += loss.detach().cpu().numpy()\n",
        "\n",
        "            tq.set_postfix({'Train cce': loss.detach().cpu().numpy()})\n",
        "\n",
        "\n",
        "            if weight_decay>0:\n",
        "              # Add L2 regularization to the loss\n",
        "              l2_reg = torch.tensor(0.).to(device)\n",
        "              for param in model.parameters():\n",
        "                  l2_reg += torch.norm(param)\n",
        "              loss += weight_decay * l2_reg\n",
        "\n",
        "            loss.backward() # computes gradients\n",
        "            optimizer.step()\n",
        "\n",
        "            if it % iters_per_epoch == 0:\n",
        "              scheduler.step()\n",
        "              if aux_loss/iters_per_epoch < 0.005:\n",
        "                print(\"Early-stopping\")\n",
        "                break\n",
        "              aux_loss = 0\n",
        "\n",
        "\n",
        "\n",
        "    return model"
      ]
    },
    {
      "cell_type": "markdown",
      "metadata": {
        "id": "qC3fe4Fm4WkR"
      },
      "source": [
        "# Training"
      ]
    },
    {
      "cell_type": "code",
      "execution_count": 24,
      "metadata": {
        "id": "pVyhS1fphrA7"
      },
      "outputs": [],
      "source": [
        "models = [createmodel().to(device) for _ in range(5)]\n",
        "loader = []\n",
        "\n",
        "g_cuda = torch.Generator(device='cpu')\n",
        "g_cuda.manual_seed(RANDOM_SEED)\n",
        "loader.append(torch.utils.data.DataLoader(dataset=train_dataset,\n",
        "                          batch_size=BATCH_SIZE,\n",
        "                          generator=g_cuda,\n",
        "                          shuffle=True))\n",
        "\n",
        "g_cuda = torch.Generator(device='cpu')\n",
        "g_cuda.manual_seed(RANDOM_SEED)\n",
        "loader.append(torch.utils.data.DataLoader(dataset=train_dataset,\n",
        "                          batch_size=BATCH_SIZE,\n",
        "                          generator=g_cuda,\n",
        "                          shuffle=True))\n",
        "\n",
        "g_cuda = torch.Generator(device='cpu')\n",
        "g_cuda.manual_seed(RANDOM_SEED)\n",
        "loader.append(torch.utils.data.DataLoader(dataset=train_dataset_crop,\n",
        "                          batch_size=BATCH_SIZE,\n",
        "                          generator=g_cuda,\n",
        "                          shuffle=True))\n",
        "\n",
        "g_cuda = torch.Generator(device='cpu')\n",
        "g_cuda.manual_seed(RANDOM_SEED)\n",
        "loader.append(torch.utils.data.DataLoader(dataset=train_dataset_crop,\n",
        "                          batch_size=BATCH_SIZE,\n",
        "                          generator=g_cuda,\n",
        "                          shuffle=True))\n",
        "\n",
        "g_cuda = torch.Generator(device='cpu')\n",
        "g_cuda.manual_seed(RANDOM_SEED)\n",
        "loader.append(torch.utils.data.DataLoader(dataset=train_dataset_shuffled,\n",
        "                          batch_size=BATCH_SIZE,\n",
        "                          generator=g_cuda,\n",
        "                          shuffle=True))\n",
        "\n",
        "\n",
        "weight_decays = [0.0, weight_decay, 0.0, weight_decay, 0.0]\n",
        "labels = [\"Standard\", \"L2\", \"Crop\", \"L2-Crop\", \"Random\"]\n"
      ]
    },
    {
      "cell_type": "code",
      "execution_count": 25,
      "metadata": {
        "id": "iGeE31h1bnAC"
      },
      "outputs": [],
      "source": [
        "jet = plt.cm.get_cmap('Dark2')\n",
        "colors = {\n",
        "    \"Standard\": jet(0),\n",
        "    \"L2\": jet(1),\n",
        "    \"Crop\": jet(2),\n",
        "    \"L2-Crop\": jet(3),\n",
        "    \"Random\": jet(4)\n",
        "}\n",
        "\n",
        "\n",
        "markers = {\n",
        "    \"Standard\": \"X\",\n",
        "    \"L2\": \"s\",\n",
        "    \"Crop\": \"^\",\n",
        "    \"L2-Crop\": \"<\",\n",
        "    \"Random\": \"*\"\n",
        "}\n",
        "\n"
      ]
    },
    {
      "cell_type": "code",
      "execution_count": 22,
      "metadata": {
        "id": "kLapkjug8GjO"
      },
      "outputs": [],
      "source": []
    },
    {
      "cell_type": "code",
      "execution_count": 24,
      "metadata": {
        "colab": {
          "base_uri": "https://localhost:8080/",
          "height": 414
        },
        "id": "yLg9Pu-rh0-v",
        "outputId": "8472e3cb-f994-4552-dbdc-01737e1eed57"
      },
      "outputs": [
        {
          "output_type": "stream",
          "name": "stderr",
          "text": [
            "  0%|          | 0/30000 [00:05<?, ?it/s]\n"
          ]
        },
        {
          "output_type": "error",
          "ename": "KeyboardInterrupt",
          "evalue": "ignored",
          "traceback": [
            "\u001b[0;31m---------------------------------------------------------------------------\u001b[0m",
            "\u001b[0;31mKeyboardInterrupt\u001b[0m                         Traceback (most recent call last)",
            "\u001b[0;32m<ipython-input-24-74ca4a7a0d81>\u001b[0m in \u001b[0;36m<module>\u001b[0;34m\u001b[0m\n\u001b[1;32m      1\u001b[0m \u001b[0mresults\u001b[0m \u001b[0;34m=\u001b[0m \u001b[0;34m[\u001b[0m\u001b[0;34m]\u001b[0m\u001b[0;34m\u001b[0m\u001b[0;34m\u001b[0m\u001b[0m\n\u001b[1;32m      2\u001b[0m \u001b[0;32mfor\u001b[0m \u001b[0mi\u001b[0m \u001b[0;32min\u001b[0m \u001b[0mrange\u001b[0m\u001b[0;34m(\u001b[0m\u001b[0mlen\u001b[0m\u001b[0;34m(\u001b[0m\u001b[0mmodels\u001b[0m\u001b[0;34m)\u001b[0m\u001b[0;34m)\u001b[0m\u001b[0;34m:\u001b[0m\u001b[0;34m\u001b[0m\u001b[0;34m\u001b[0m\u001b[0m\n\u001b[0;32m----> 3\u001b[0;31m   \u001b[0mresults\u001b[0m\u001b[0;34m.\u001b[0m\u001b[0mappend\u001b[0m\u001b[0;34m(\u001b[0m\u001b[0mtrain\u001b[0m\u001b[0;34m(\u001b[0m\u001b[0mmodels\u001b[0m\u001b[0;34m[\u001b[0m\u001b[0mi\u001b[0m\u001b[0;34m]\u001b[0m\u001b[0;34m,\u001b[0m \u001b[0mloader\u001b[0m\u001b[0;34m[\u001b[0m\u001b[0mi\u001b[0m\u001b[0;34m]\u001b[0m\u001b[0;34m,\u001b[0m \u001b[0mweight_decay\u001b[0m\u001b[0;34m=\u001b[0m\u001b[0mweight_decays\u001b[0m\u001b[0;34m[\u001b[0m\u001b[0mi\u001b[0m\u001b[0;34m]\u001b[0m\u001b[0;34m)\u001b[0m\u001b[0;34m)\u001b[0m\u001b[0;34m\u001b[0m\u001b[0;34m\u001b[0m\u001b[0m\n\u001b[0m\u001b[1;32m      4\u001b[0m   \u001b[0;32mwith\u001b[0m \u001b[0mopen\u001b[0m\u001b[0;34m(\u001b[0m\u001b[0;34mf'sgd_images/{setting_name}_results.pickle'\u001b[0m\u001b[0;34m,\u001b[0m \u001b[0;34m'wb'\u001b[0m\u001b[0;34m)\u001b[0m \u001b[0;32mas\u001b[0m \u001b[0mhandle\u001b[0m\u001b[0;34m:\u001b[0m\u001b[0;34m\u001b[0m\u001b[0;34m\u001b[0m\u001b[0m\n\u001b[1;32m      5\u001b[0m     \u001b[0mpickle\u001b[0m\u001b[0;34m.\u001b[0m\u001b[0mdump\u001b[0m\u001b[0;34m(\u001b[0m\u001b[0mresults\u001b[0m\u001b[0;34m,\u001b[0m \u001b[0mhandle\u001b[0m\u001b[0;34m,\u001b[0m \u001b[0mprotocol\u001b[0m\u001b[0;34m=\u001b[0m\u001b[0mpickle\u001b[0m\u001b[0;34m.\u001b[0m\u001b[0mHIGHEST_PROTOCOL\u001b[0m\u001b[0;34m)\u001b[0m\u001b[0;34m\u001b[0m\u001b[0;34m\u001b[0m\u001b[0m\n",
            "\u001b[0;32m<ipython-input-21-773d142f165d>\u001b[0m in \u001b[0;36mtrain\u001b[0;34m(model, train_loader, weight_decay)\u001b[0m\n\u001b[1;32m     29\u001b[0m             \u001b[0moptimizer\u001b[0m\u001b[0;34m.\u001b[0m\u001b[0mzero_grad\u001b[0m\u001b[0;34m(\u001b[0m\u001b[0;34m)\u001b[0m\u001b[0;34m\u001b[0m\u001b[0;34m\u001b[0m\u001b[0m\n\u001b[1;32m     30\u001b[0m \u001b[0;34m\u001b[0m\u001b[0m\n\u001b[0;32m---> 31\u001b[0;31m             \u001b[0mlogits\u001b[0m \u001b[0;34m=\u001b[0m \u001b[0mmodel\u001b[0m\u001b[0;34m(\u001b[0m\u001b[0minputs\u001b[0m\u001b[0;34m)\u001b[0m \u001b[0;31m# forward pass\u001b[0m\u001b[0;34m\u001b[0m\u001b[0;34m\u001b[0m\u001b[0m\n\u001b[0m\u001b[1;32m     32\u001b[0m \u001b[0;34m\u001b[0m\u001b[0m\n\u001b[1;32m     33\u001b[0m             \u001b[0mloss\u001b[0m \u001b[0;34m=\u001b[0m \u001b[0mcriterion\u001b[0m\u001b[0;34m(\u001b[0m\u001b[0mlogits\u001b[0m\u001b[0;34m,\u001b[0m \u001b[0mtarget\u001b[0m\u001b[0;34m)\u001b[0m \u001b[0;31m# supervised loss\u001b[0m\u001b[0;34m\u001b[0m\u001b[0;34m\u001b[0m\u001b[0m\n",
            "\u001b[0;32m/usr/local/lib/python3.8/dist-packages/torch/nn/modules/module.py\u001b[0m in \u001b[0;36m_call_impl\u001b[0;34m(self, *input, **kwargs)\u001b[0m\n\u001b[1;32m   1192\u001b[0m         if not (self._backward_hooks or self._forward_hooks or self._forward_pre_hooks or _global_backward_hooks\n\u001b[1;32m   1193\u001b[0m                 or _global_forward_hooks or _global_forward_pre_hooks):\n\u001b[0;32m-> 1194\u001b[0;31m             \u001b[0;32mreturn\u001b[0m \u001b[0mforward_call\u001b[0m\u001b[0;34m(\u001b[0m\u001b[0;34m*\u001b[0m\u001b[0minput\u001b[0m\u001b[0;34m,\u001b[0m \u001b[0;34m**\u001b[0m\u001b[0mkwargs\u001b[0m\u001b[0;34m)\u001b[0m\u001b[0;34m\u001b[0m\u001b[0;34m\u001b[0m\u001b[0m\n\u001b[0m\u001b[1;32m   1195\u001b[0m         \u001b[0;31m# Do not call functions when jit is used\u001b[0m\u001b[0;34m\u001b[0m\u001b[0;34m\u001b[0m\u001b[0;34m\u001b[0m\u001b[0m\n\u001b[1;32m   1196\u001b[0m         \u001b[0mfull_backward_hooks\u001b[0m\u001b[0;34m,\u001b[0m \u001b[0mnon_full_backward_hooks\u001b[0m \u001b[0;34m=\u001b[0m \u001b[0;34m[\u001b[0m\u001b[0;34m]\u001b[0m\u001b[0;34m,\u001b[0m \u001b[0;34m[\u001b[0m\u001b[0;34m]\u001b[0m\u001b[0;34m\u001b[0m\u001b[0;34m\u001b[0m\u001b[0m\n",
            "\u001b[0;32m<ipython-input-15-940ee8b90722>\u001b[0m in \u001b[0;36mforward\u001b[0;34m(self, x)\u001b[0m\n\u001b[1;32m     63\u001b[0m \u001b[0;34m\u001b[0m\u001b[0m\n\u001b[1;32m     64\u001b[0m     \u001b[0;32mdef\u001b[0m \u001b[0mforward\u001b[0m\u001b[0;34m(\u001b[0m\u001b[0mself\u001b[0m\u001b[0;34m,\u001b[0m \u001b[0mx\u001b[0m\u001b[0;34m)\u001b[0m\u001b[0;34m:\u001b[0m\u001b[0;34m\u001b[0m\u001b[0;34m\u001b[0m\u001b[0m\n\u001b[0;32m---> 65\u001b[0;31m         \u001b[0mx\u001b[0m \u001b[0;34m=\u001b[0m \u001b[0mself\u001b[0m\u001b[0;34m.\u001b[0m\u001b[0mconv1\u001b[0m\u001b[0;34m(\u001b[0m\u001b[0mx\u001b[0m\u001b[0;34m)\u001b[0m\u001b[0;34m\u001b[0m\u001b[0;34m\u001b[0m\u001b[0m\n\u001b[0m\u001b[1;32m     66\u001b[0m         \u001b[0mx\u001b[0m \u001b[0;34m=\u001b[0m \u001b[0mself\u001b[0m\u001b[0;34m.\u001b[0m\u001b[0minception1\u001b[0m\u001b[0;34m(\u001b[0m\u001b[0mx\u001b[0m\u001b[0;34m)\u001b[0m\u001b[0;34m\u001b[0m\u001b[0;34m\u001b[0m\u001b[0m\n\u001b[1;32m     67\u001b[0m         \u001b[0mx\u001b[0m \u001b[0;34m=\u001b[0m \u001b[0mself\u001b[0m\u001b[0;34m.\u001b[0m\u001b[0minception2\u001b[0m\u001b[0;34m(\u001b[0m\u001b[0mx\u001b[0m\u001b[0;34m)\u001b[0m\u001b[0;34m\u001b[0m\u001b[0;34m\u001b[0m\u001b[0m\n",
            "\u001b[0;32m/usr/local/lib/python3.8/dist-packages/torch/nn/modules/module.py\u001b[0m in \u001b[0;36m_call_impl\u001b[0;34m(self, *input, **kwargs)\u001b[0m\n\u001b[1;32m   1192\u001b[0m         if not (self._backward_hooks or self._forward_hooks or self._forward_pre_hooks or _global_backward_hooks\n\u001b[1;32m   1193\u001b[0m                 or _global_forward_hooks or _global_forward_pre_hooks):\n\u001b[0;32m-> 1194\u001b[0;31m             \u001b[0;32mreturn\u001b[0m \u001b[0mforward_call\u001b[0m\u001b[0;34m(\u001b[0m\u001b[0;34m*\u001b[0m\u001b[0minput\u001b[0m\u001b[0;34m,\u001b[0m \u001b[0;34m**\u001b[0m\u001b[0mkwargs\u001b[0m\u001b[0;34m)\u001b[0m\u001b[0;34m\u001b[0m\u001b[0;34m\u001b[0m\u001b[0m\n\u001b[0m\u001b[1;32m   1195\u001b[0m         \u001b[0;31m# Do not call functions when jit is used\u001b[0m\u001b[0;34m\u001b[0m\u001b[0;34m\u001b[0m\u001b[0;34m\u001b[0m\u001b[0m\n\u001b[1;32m   1196\u001b[0m         \u001b[0mfull_backward_hooks\u001b[0m\u001b[0;34m,\u001b[0m \u001b[0mnon_full_backward_hooks\u001b[0m \u001b[0;34m=\u001b[0m \u001b[0;34m[\u001b[0m\u001b[0;34m]\u001b[0m\u001b[0;34m,\u001b[0m \u001b[0;34m[\u001b[0m\u001b[0;34m]\u001b[0m\u001b[0;34m\u001b[0m\u001b[0;34m\u001b[0m\u001b[0m\n",
            "\u001b[0;32m<ipython-input-15-940ee8b90722>\u001b[0m in \u001b[0;36mforward\u001b[0;34m(self, x)\u001b[0m\n\u001b[1;32m      8\u001b[0m \u001b[0;34m\u001b[0m\u001b[0m\n\u001b[1;32m      9\u001b[0m     \u001b[0;32mdef\u001b[0m \u001b[0mforward\u001b[0m\u001b[0;34m(\u001b[0m\u001b[0mself\u001b[0m\u001b[0;34m,\u001b[0m \u001b[0mx\u001b[0m\u001b[0;34m)\u001b[0m\u001b[0;34m:\u001b[0m\u001b[0;34m\u001b[0m\u001b[0;34m\u001b[0m\u001b[0m\n\u001b[0;32m---> 10\u001b[0;31m         \u001b[0mx\u001b[0m \u001b[0;34m=\u001b[0m \u001b[0mself\u001b[0m\u001b[0;34m.\u001b[0m\u001b[0mconv\u001b[0m\u001b[0;34m(\u001b[0m\u001b[0mx\u001b[0m\u001b[0;34m)\u001b[0m\u001b[0;34m\u001b[0m\u001b[0;34m\u001b[0m\u001b[0m\n\u001b[0m\u001b[1;32m     11\u001b[0m         \u001b[0mx\u001b[0m \u001b[0;34m=\u001b[0m \u001b[0mself\u001b[0m\u001b[0;34m.\u001b[0m\u001b[0mbn\u001b[0m\u001b[0;34m(\u001b[0m\u001b[0mx\u001b[0m\u001b[0;34m)\u001b[0m\u001b[0;34m\u001b[0m\u001b[0;34m\u001b[0m\u001b[0m\n\u001b[1;32m     12\u001b[0m         \u001b[0mx\u001b[0m \u001b[0;34m=\u001b[0m \u001b[0mself\u001b[0m\u001b[0;34m.\u001b[0m\u001b[0mact\u001b[0m\u001b[0;34m(\u001b[0m\u001b[0mx\u001b[0m\u001b[0;34m)\u001b[0m\u001b[0;34m\u001b[0m\u001b[0;34m\u001b[0m\u001b[0m\n",
            "\u001b[0;32m/usr/local/lib/python3.8/dist-packages/torch/nn/modules/module.py\u001b[0m in \u001b[0;36m_call_impl\u001b[0;34m(self, *input, **kwargs)\u001b[0m\n\u001b[1;32m   1192\u001b[0m         if not (self._backward_hooks or self._forward_hooks or self._forward_pre_hooks or _global_backward_hooks\n\u001b[1;32m   1193\u001b[0m                 or _global_forward_hooks or _global_forward_pre_hooks):\n\u001b[0;32m-> 1194\u001b[0;31m             \u001b[0;32mreturn\u001b[0m \u001b[0mforward_call\u001b[0m\u001b[0;34m(\u001b[0m\u001b[0;34m*\u001b[0m\u001b[0minput\u001b[0m\u001b[0;34m,\u001b[0m \u001b[0;34m**\u001b[0m\u001b[0mkwargs\u001b[0m\u001b[0;34m)\u001b[0m\u001b[0;34m\u001b[0m\u001b[0;34m\u001b[0m\u001b[0m\n\u001b[0m\u001b[1;32m   1195\u001b[0m         \u001b[0;31m# Do not call functions when jit is used\u001b[0m\u001b[0;34m\u001b[0m\u001b[0;34m\u001b[0m\u001b[0;34m\u001b[0m\u001b[0m\n\u001b[1;32m   1196\u001b[0m         \u001b[0mfull_backward_hooks\u001b[0m\u001b[0;34m,\u001b[0m \u001b[0mnon_full_backward_hooks\u001b[0m \u001b[0;34m=\u001b[0m \u001b[0;34m[\u001b[0m\u001b[0;34m]\u001b[0m\u001b[0;34m,\u001b[0m \u001b[0;34m[\u001b[0m\u001b[0;34m]\u001b[0m\u001b[0;34m\u001b[0m\u001b[0;34m\u001b[0m\u001b[0m\n",
            "\u001b[0;32m/usr/local/lib/python3.8/dist-packages/torch/nn/modules/conv.py\u001b[0m in \u001b[0;36mforward\u001b[0;34m(self, input)\u001b[0m\n\u001b[1;32m    461\u001b[0m \u001b[0;34m\u001b[0m\u001b[0m\n\u001b[1;32m    462\u001b[0m     \u001b[0;32mdef\u001b[0m \u001b[0mforward\u001b[0m\u001b[0;34m(\u001b[0m\u001b[0mself\u001b[0m\u001b[0;34m,\u001b[0m \u001b[0minput\u001b[0m\u001b[0;34m:\u001b[0m \u001b[0mTensor\u001b[0m\u001b[0;34m)\u001b[0m \u001b[0;34m->\u001b[0m \u001b[0mTensor\u001b[0m\u001b[0;34m:\u001b[0m\u001b[0;34m\u001b[0m\u001b[0;34m\u001b[0m\u001b[0m\n\u001b[0;32m--> 463\u001b[0;31m         \u001b[0;32mreturn\u001b[0m \u001b[0mself\u001b[0m\u001b[0;34m.\u001b[0m\u001b[0m_conv_forward\u001b[0m\u001b[0;34m(\u001b[0m\u001b[0minput\u001b[0m\u001b[0;34m,\u001b[0m \u001b[0mself\u001b[0m\u001b[0;34m.\u001b[0m\u001b[0mweight\u001b[0m\u001b[0;34m,\u001b[0m \u001b[0mself\u001b[0m\u001b[0;34m.\u001b[0m\u001b[0mbias\u001b[0m\u001b[0;34m)\u001b[0m\u001b[0;34m\u001b[0m\u001b[0;34m\u001b[0m\u001b[0m\n\u001b[0m\u001b[1;32m    464\u001b[0m \u001b[0;34m\u001b[0m\u001b[0m\n\u001b[1;32m    465\u001b[0m \u001b[0;32mclass\u001b[0m \u001b[0mConv3d\u001b[0m\u001b[0;34m(\u001b[0m\u001b[0m_ConvNd\u001b[0m\u001b[0;34m)\u001b[0m\u001b[0;34m:\u001b[0m\u001b[0;34m\u001b[0m\u001b[0;34m\u001b[0m\u001b[0m\n",
            "\u001b[0;32m/usr/local/lib/python3.8/dist-packages/torch/nn/modules/conv.py\u001b[0m in \u001b[0;36m_conv_forward\u001b[0;34m(self, input, weight, bias)\u001b[0m\n\u001b[1;32m    457\u001b[0m                             \u001b[0mweight\u001b[0m\u001b[0;34m,\u001b[0m \u001b[0mbias\u001b[0m\u001b[0;34m,\u001b[0m \u001b[0mself\u001b[0m\u001b[0;34m.\u001b[0m\u001b[0mstride\u001b[0m\u001b[0;34m,\u001b[0m\u001b[0;34m\u001b[0m\u001b[0;34m\u001b[0m\u001b[0m\n\u001b[1;32m    458\u001b[0m                             _pair(0), self.dilation, self.groups)\n\u001b[0;32m--> 459\u001b[0;31m         return F.conv2d(input, weight, bias, self.stride,\n\u001b[0m\u001b[1;32m    460\u001b[0m                         self.padding, self.dilation, self.groups)\n\u001b[1;32m    461\u001b[0m \u001b[0;34m\u001b[0m\u001b[0m\n",
            "\u001b[0;31mKeyboardInterrupt\u001b[0m: "
          ]
        }
      ],
      "source": [
        "results = []\n",
        "for i in range(len(models)):\n",
        "  results.append(train(models[i], loader[i], weight_decay=weight_decays[i]))\n",
        "  with open(f'sgd_images/{setting_name}_results.pickle', 'wb') as handle:\n",
        "    pickle.dump(results, handle, protocol=pickle.HIGHEST_PROTOCOL)"
      ]
    },
    {
      "cell_type": "code",
      "execution_count": null,
      "metadata": {
        "colab": {
          "base_uri": "https://localhost:8080/"
        },
        "id": "EZBMDVr78HX1",
        "outputId": "3b8f9941-8d4d-4978-f012-6efe3780a5f7"
      },
      "outputs": [
        {
          "data": {
            "text/plain": [
              "(1000, 10000, 2.302629, 1.3532276e-07)"
            ]
          },
          "execution_count": 75,
          "metadata": {},
          "output_type": "execute_result"
        }
      ],
      "source": [
        "eval(device, createmodel().to(device), test_loader_batch, criterion)"
      ]
    },
    {
      "cell_type": "code",
      "execution_count": null,
      "metadata": {
        "colab": {
          "base_uri": "https://localhost:8080/"
        },
        "id": "kPAG6jmyfXCc",
        "outputId": "acf83574-5c6f-4855-cba2-fb1288124643"
      },
      "outputs": [
        {
          "name": "stdout",
          "output_type": "stream",
          "text": [
            "Inception\n",
            "Train (49999, 50000, 0.0023565707, 4.6568243e-07)\n",
            "Test (8436, 10000, 0.6557811, 0.0035014781)\n",
            "Inception-L2\n",
            "Train (50000, 50000, 0.0022527338, 1.2671833e-07)\n",
            "Test (8660, 10000, 0.49843162, 0.0018191319)\n",
            "Inception-Crop\n",
            "Train (49971, 50000, 0.0042447145, 7.892405e-06)\n",
            "Test (8689, 10000, 0.5871979, 0.0023411235)\n",
            "Inception-L2-Crop\n",
            "Train (49993, 50000, 0.004091027, 3.2923244e-06)\n",
            "Test (8845, 10000, 0.4202022, 0.0020244843)\n",
            "Inception-Random\n",
            "Train (50000, 50000, 0.01237456, 1.2919899e-06)\n",
            "Test (1013, 10000, 5.5234256, 0.012642367)\n"
          ]
        }
      ],
      "source": [
        "for i in range(len(models)):\n",
        "  print(labels[i])\n",
        "  print(\"Train\", eval(device, models[i],  loader[i], criterion))\n",
        "  print(\"Test\", eval(device, models[i],  test_loader_batch, criterion))"
      ]
    },
    {
      "cell_type": "code",
      "execution_count": 26,
      "metadata": {
        "id": "khnEjnQ3jTa2"
      },
      "outputs": [],
      "source": [
        "BATCH_LOSS=0\n",
        "TRAIN_LOSS=1\n",
        "TEST_LOSS=2\n",
        "VARIANCE=3\n",
        "MODELS=4\n",
        "train_loss = [BATCH_LOSS, BATCH_LOSS, BATCH_LOSS, BATCH_LOSS, BATCH_LOSS]"
      ]
    },
    {
      "cell_type": "markdown",
      "metadata": {
        "id": "ApY2tEhCWIhi"
      },
      "source": [
        "# Figure 4: Jensen-Gap Functions Evolution"
      ]
    },
    {
      "cell_type": "code",
      "execution_count": 27,
      "metadata": {
        "id": "Q_9k-tTZlVp5"
      },
      "outputs": [],
      "source": [
        "with open(f\"sgd_images/{setting_name}_results.pickle\", \"rb\") as handle:\n",
        "  results = pickle.load(handle)"
      ]
    },
    {
      "cell_type": "code",
      "execution_count": 28,
      "metadata": {
        "id": "WO9hJ5g3zLWA"
      },
      "outputs": [],
      "source": [
        "lambdas = np.arange(0, 0.5, 0.01)\n",
        "jensens = []\n",
        "\n",
        "for i in range(len(models)):\n",
        "  jensens.append(eval_jensen(results[i].to(device), lambdas))\n",
        "\n",
        "\n",
        "new_model = createmodel().to(device)\n",
        "jensens.append(eval_jensen(new_model.to(device), lambdas))"
      ]
    },
    {
      "cell_type": "code",
      "execution_count": 29,
      "metadata": {
        "colab": {
          "base_uri": "https://localhost:8080/"
        },
        "id": "eAMkTEa86f2E",
        "outputId": "e30a405e-f10d-4b62-c5aa-57b1e4bb4df2"
      },
      "outputs": [
        {
          "output_type": "stream",
          "name": "stdout",
          "text": [
            "\n",
            "Standard :  304.169\n",
            "\n",
            "L2 :  200.12051\n",
            "\n",
            "Crop :  309.86862\n",
            "\n",
            "L2-Crop :  130.98254\n",
            "\n",
            "Random :  311.16617\n",
            "Initial model:  593.40735\n"
          ]
        }
      ],
      "source": [
        "\n",
        "for i in range(len(models)):\n",
        "  print()\n",
        "  l2_reg = 0\n",
        "  for param in results[i].parameters():\n",
        "    l2_reg += torch.norm(param)\n",
        "  print(labels[i], \": \", l2_reg.detach().cpu().numpy())\n",
        "\n",
        "for param in new_model.parameters():\n",
        "  l2_reg += torch.norm(param)\n",
        "print(\"Initial model: \", l2_reg.detach().cpu().numpy())\n"
      ]
    },
    {
      "cell_type": "code",
      "execution_count": 30,
      "metadata": {
        "colab": {
          "base_uri": "https://localhost:8080/",
          "height": 424
        },
        "id": "pTwWqThzlTzw",
        "outputId": "f186a6df-96aa-4269-d041-1ea75ba617c2"
      },
      "outputs": [
        {
          "output_type": "display_data",
          "data": {
            "text/plain": [
              "<Figure size 1008x432 with 1 Axes>"
            ],
            "image/png": "[encoded data removed]"
          },
          "metadata": {
            "needs_background": "light"
          }
        }
      ],
      "source": [
        "plt.rcParams['figure.figsize'] = (14, 6)\n",
        "for i in range(len(jensens)-1):\n",
        "  plt.plot(lambdas, jensens[i], label=labels[i] ,linewidth=3, color = colors[labels[i]], marker = markers[labels[i]],  markersize=15, markevery=10)\n",
        "\n",
        "\n",
        "plt.plot(lambdas, jensens[-1], label=\"Initial Model\" ,linewidth=3, color = jet(6), marker = \"o\",  markersize=15, markevery=10)\n",
        "\n",
        "\n",
        "plt.legend(loc='upper right', bbox_to_anchor=(1.35, 1.04),\n",
        "          ncol=1, fancybox=True, shadow=True)\n",
        "#plt.xlabel(r\"$\\lambda$\")\n",
        "#plt.xlim(0,0.5)\n",
        "plt.ylim(-0.04,0.2)\n",
        "plt.grid()\n",
        "plt.title(r\"$J(\\theta,\\lambda)$\")\n",
        "\n",
        "plt.savefig(\"sgd_images/jensen_intro.pdf\", format = \"pdf\",bbox_inches='tight')\n",
        "plt.show()"
      ]
    },
    {
      "cell_type": "code",
      "execution_count": 31,
      "metadata": {
        "id": "HZS6lhHp_Wjq"
      },
      "outputs": [],
      "source": [
        "s_values = np.arange(0, 0.5, 0.01)\n",
        "Is = []\n",
        "\n",
        "for i in range(len(models)):\n",
        "  Is.append(np.array([rate_function_BS(results[i].to(device), s)[0] for s in s_values]))\n",
        "\n",
        "\n",
        "new_model = createmodel().to(device)\n",
        "Is.append(np.array([rate_function_BS(new_model, s)[0] for s in s_values]))"
      ]
    },
    {
      "cell_type": "code",
      "execution_count": 41,
      "metadata": {
        "colab": {
          "base_uri": "https://localhost:8080/",
          "height": 780
        },
        "id": "1mSCXy4o_0Jl",
        "outputId": "1db4ac59-1f88-43ca-e04b-cb055725660e"
      },
      "outputs": [
        {
          "output_type": "error",
          "ename": "ValueError",
          "evalue": "ignored",
          "traceback": [
            "\u001b[0;31m---------------------------------------------------------------------------\u001b[0m",
            "\u001b[0;31mValueError\u001b[0m                                Traceback (most recent call last)",
            "\u001b[0;32m<ipython-input-41-3caecb28babd>\u001b[0m in \u001b[0;36m<module>\u001b[0;34m\u001b[0m\n\u001b[1;32m      1\u001b[0m \u001b[0mplt\u001b[0m\u001b[0;34m.\u001b[0m\u001b[0mrcParams\u001b[0m\u001b[0;34m[\u001b[0m\u001b[0;34m'figure.figsize'\u001b[0m\u001b[0;34m]\u001b[0m \u001b[0;34m=\u001b[0m \u001b[0;34m(\u001b[0m\u001b[0;36m14\u001b[0m\u001b[0;34m,\u001b[0m \u001b[0;36m6\u001b[0m\u001b[0;34m)\u001b[0m\u001b[0;34m\u001b[0m\u001b[0;34m\u001b[0m\u001b[0m\n\u001b[1;32m      2\u001b[0m \u001b[0;32mfor\u001b[0m \u001b[0mi\u001b[0m \u001b[0;32min\u001b[0m \u001b[0mrange\u001b[0m\u001b[0;34m(\u001b[0m\u001b[0mlen\u001b[0m\u001b[0;34m(\u001b[0m\u001b[0mIs\u001b[0m\u001b[0;34m)\u001b[0m\u001b[0;34m-\u001b[0m\u001b[0;36m1\u001b[0m\u001b[0;34m)\u001b[0m\u001b[0;34m:\u001b[0m\u001b[0;34m\u001b[0m\u001b[0;34m\u001b[0m\u001b[0m\n\u001b[0;32m----> 3\u001b[0;31m   \u001b[0mplt\u001b[0m\u001b[0;34m.\u001b[0m\u001b[0mplot\u001b[0m\u001b[0;34m(\u001b[0m\u001b[0ms_values\u001b[0m\u001b[0;34m,\u001b[0m \u001b[0mIs\u001b[0m\u001b[0;34m[\u001b[0m\u001b[0mi\u001b[0m\u001b[0;34m]\u001b[0m\u001b[0;34m,\u001b[0m \u001b[0mlabel\u001b[0m\u001b[0;34m=\u001b[0m\u001b[0mlabels\u001b[0m\u001b[0;34m[\u001b[0m\u001b[0mi\u001b[0m\u001b[0;34m]\u001b[0m \u001b[0;34m,\u001b[0m\u001b[0mlinewidth\u001b[0m\u001b[0;34m=\u001b[0m\u001b[0;36m3\u001b[0m\u001b[0;34m,\u001b[0m \u001b[0mcolor\u001b[0m \u001b[0;34m=\u001b[0m \u001b[0mcolors\u001b[0m\u001b[0;34m[\u001b[0m\u001b[0mlabels\u001b[0m\u001b[0;34m[\u001b[0m\u001b[0mi\u001b[0m\u001b[0;34m]\u001b[0m\u001b[0;34m]\u001b[0m\u001b[0;34m,\u001b[0m \u001b[0mmarker\u001b[0m \u001b[0;34m=\u001b[0m \u001b[0mmarkers\u001b[0m\u001b[0;34m[\u001b[0m\u001b[0mlabels\u001b[0m\u001b[0;34m[\u001b[0m\u001b[0mi\u001b[0m\u001b[0;34m]\u001b[0m\u001b[0;34m]\u001b[0m\u001b[0;34m,\u001b[0m  \u001b[0mmarkersize\u001b[0m\u001b[0;34m=\u001b[0m\u001b[0;36m15\u001b[0m\u001b[0;34m,\u001b[0m \u001b[0mmarkevery\u001b[0m\u001b[0;34m=\u001b[0m\u001b[0;36m10\u001b[0m\u001b[0;34m)\u001b[0m\u001b[0;34m\u001b[0m\u001b[0;34m\u001b[0m\u001b[0m\n\u001b[0m\u001b[1;32m      4\u001b[0m \u001b[0;34m\u001b[0m\u001b[0m\n\u001b[1;32m      5\u001b[0m \u001b[0;34m\u001b[0m\u001b[0m\n",
            "\u001b[0;32m/usr/local/lib/python3.8/dist-packages/matplotlib/pyplot.py\u001b[0m in \u001b[0;36mplot\u001b[0;34m(scalex, scaley, data, *args, **kwargs)\u001b[0m\n\u001b[1;32m   2765\u001b[0m \u001b[0;34m@\u001b[0m\u001b[0m_copy_docstring_and_deprecators\u001b[0m\u001b[0;34m(\u001b[0m\u001b[0mAxes\u001b[0m\u001b[0;34m.\u001b[0m\u001b[0mplot\u001b[0m\u001b[0;34m)\u001b[0m\u001b[0;34m\u001b[0m\u001b[0;34m\u001b[0m\u001b[0m\n\u001b[1;32m   2766\u001b[0m \u001b[0;32mdef\u001b[0m \u001b[0mplot\u001b[0m\u001b[0;34m(\u001b[0m\u001b[0;34m*\u001b[0m\u001b[0margs\u001b[0m\u001b[0;34m,\u001b[0m \u001b[0mscalex\u001b[0m\u001b[0;34m=\u001b[0m\u001b[0;32mTrue\u001b[0m\u001b[0;34m,\u001b[0m \u001b[0mscaley\u001b[0m\u001b[0;34m=\u001b[0m\u001b[0;32mTrue\u001b[0m\u001b[0;34m,\u001b[0m \u001b[0mdata\u001b[0m\u001b[0;34m=\u001b[0m\u001b[0;32mNone\u001b[0m\u001b[0;34m,\u001b[0m \u001b[0;34m**\u001b[0m\u001b[0mkwargs\u001b[0m\u001b[0;34m)\u001b[0m\u001b[0;34m:\u001b[0m\u001b[0;34m\u001b[0m\u001b[0;34m\u001b[0m\u001b[0m\n\u001b[0;32m-> 2767\u001b[0;31m     return gca().plot(\n\u001b[0m\u001b[1;32m   2768\u001b[0m         \u001b[0;34m*\u001b[0m\u001b[0margs\u001b[0m\u001b[0;34m,\u001b[0m \u001b[0mscalex\u001b[0m\u001b[0;34m=\u001b[0m\u001b[0mscalex\u001b[0m\u001b[0;34m,\u001b[0m \u001b[0mscaley\u001b[0m\u001b[0;34m=\u001b[0m\u001b[0mscaley\u001b[0m\u001b[0;34m,\u001b[0m\u001b[0;34m\u001b[0m\u001b[0;34m\u001b[0m\u001b[0m\n\u001b[1;32m   2769\u001b[0m         **({\"data\": data} if data is not None else {}), **kwargs)\n",
            "\u001b[0;32m/usr/local/lib/python3.8/dist-packages/matplotlib/axes/_axes.py\u001b[0m in \u001b[0;36mplot\u001b[0;34m(self, scalex, scaley, data, *args, **kwargs)\u001b[0m\n\u001b[1;32m   1633\u001b[0m         \"\"\"\n\u001b[1;32m   1634\u001b[0m         \u001b[0mkwargs\u001b[0m \u001b[0;34m=\u001b[0m \u001b[0mcbook\u001b[0m\u001b[0;34m.\u001b[0m\u001b[0mnormalize_kwargs\u001b[0m\u001b[0;34m(\u001b[0m\u001b[0mkwargs\u001b[0m\u001b[0;34m,\u001b[0m \u001b[0mmlines\u001b[0m\u001b[0;34m.\u001b[0m\u001b[0mLine2D\u001b[0m\u001b[0;34m)\u001b[0m\u001b[0;34m\u001b[0m\u001b[0;34m\u001b[0m\u001b[0m\n\u001b[0;32m-> 1635\u001b[0;31m         \u001b[0mlines\u001b[0m \u001b[0;34m=\u001b[0m \u001b[0;34m[\u001b[0m\u001b[0;34m*\u001b[0m\u001b[0mself\u001b[0m\u001b[0;34m.\u001b[0m\u001b[0m_get_lines\u001b[0m\u001b[0;34m(\u001b[0m\u001b[0;34m*\u001b[0m\u001b[0margs\u001b[0m\u001b[0;34m,\u001b[0m \u001b[0mdata\u001b[0m\u001b[0;34m=\u001b[0m\u001b[0mdata\u001b[0m\u001b[0;34m,\u001b[0m \u001b[0;34m**\u001b[0m\u001b[0mkwargs\u001b[0m\u001b[0;34m)\u001b[0m\u001b[0;34m]\u001b[0m\u001b[0;34m\u001b[0m\u001b[0;34m\u001b[0m\u001b[0m\n\u001b[0m\u001b[1;32m   1636\u001b[0m         \u001b[0;32mfor\u001b[0m \u001b[0mline\u001b[0m \u001b[0;32min\u001b[0m \u001b[0mlines\u001b[0m\u001b[0;34m:\u001b[0m\u001b[0;34m\u001b[0m\u001b[0;34m\u001b[0m\u001b[0m\n\u001b[1;32m   1637\u001b[0m             \u001b[0mself\u001b[0m\u001b[0;34m.\u001b[0m\u001b[0madd_line\u001b[0m\u001b[0;34m(\u001b[0m\u001b[0mline\u001b[0m\u001b[0;34m)\u001b[0m\u001b[0;34m\u001b[0m\u001b[0;34m\u001b[0m\u001b[0m\n",
            "\u001b[0;32m/usr/local/lib/python3.8/dist-packages/matplotlib/axes/_base.py\u001b[0m in \u001b[0;36m__call__\u001b[0;34m(self, data, *args, **kwargs)\u001b[0m\n\u001b[1;32m    310\u001b[0m                 \u001b[0mthis\u001b[0m \u001b[0;34m+=\u001b[0m \u001b[0margs\u001b[0m\u001b[0;34m[\u001b[0m\u001b[0;36m0\u001b[0m\u001b[0;34m]\u001b[0m\u001b[0;34m,\u001b[0m\u001b[0;34m\u001b[0m\u001b[0;34m\u001b[0m\u001b[0m\n\u001b[1;32m    311\u001b[0m                 \u001b[0margs\u001b[0m \u001b[0;34m=\u001b[0m \u001b[0margs\u001b[0m\u001b[0;34m[\u001b[0m\u001b[0;36m1\u001b[0m\u001b[0;34m:\u001b[0m\u001b[0;34m]\u001b[0m\u001b[0;34m\u001b[0m\u001b[0;34m\u001b[0m\u001b[0m\n\u001b[0;32m--> 312\u001b[0;31m             \u001b[0;32myield\u001b[0m \u001b[0;32mfrom\u001b[0m \u001b[0mself\u001b[0m\u001b[0;34m.\u001b[0m\u001b[0m_plot_args\u001b[0m\u001b[0;34m(\u001b[0m\u001b[0mthis\u001b[0m\u001b[0;34m,\u001b[0m \u001b[0mkwargs\u001b[0m\u001b[0;34m)\u001b[0m\u001b[0;34m\u001b[0m\u001b[0;34m\u001b[0m\u001b[0m\n\u001b[0m\u001b[1;32m    313\u001b[0m \u001b[0;34m\u001b[0m\u001b[0m\n\u001b[1;32m    314\u001b[0m     \u001b[0;32mdef\u001b[0m \u001b[0mget_next_color\u001b[0m\u001b[0;34m(\u001b[0m\u001b[0mself\u001b[0m\u001b[0;34m)\u001b[0m\u001b[0;34m:\u001b[0m\u001b[0;34m\u001b[0m\u001b[0;34m\u001b[0m\u001b[0m\n",
            "\u001b[0;32m/usr/local/lib/python3.8/dist-packages/matplotlib/axes/_base.py\u001b[0m in \u001b[0;36m_plot_args\u001b[0;34m(self, tup, kwargs, return_kwargs)\u001b[0m\n\u001b[1;32m    496\u001b[0m \u001b[0;34m\u001b[0m\u001b[0m\n\u001b[1;32m    497\u001b[0m         \u001b[0;32mif\u001b[0m \u001b[0mx\u001b[0m\u001b[0;34m.\u001b[0m\u001b[0mshape\u001b[0m\u001b[0;34m[\u001b[0m\u001b[0;36m0\u001b[0m\u001b[0;34m]\u001b[0m \u001b[0;34m!=\u001b[0m \u001b[0my\u001b[0m\u001b[0;34m.\u001b[0m\u001b[0mshape\u001b[0m\u001b[0;34m[\u001b[0m\u001b[0;36m0\u001b[0m\u001b[0;34m]\u001b[0m\u001b[0;34m:\u001b[0m\u001b[0;34m\u001b[0m\u001b[0;34m\u001b[0m\u001b[0m\n\u001b[0;32m--> 498\u001b[0;31m             raise ValueError(f\"x and y must have same first dimension, but \"\n\u001b[0m\u001b[1;32m    499\u001b[0m                              f\"have shapes {x.shape} and {y.shape}\")\n\u001b[1;32m    500\u001b[0m         \u001b[0;32mif\u001b[0m \u001b[0mx\u001b[0m\u001b[0;34m.\u001b[0m\u001b[0mndim\u001b[0m \u001b[0;34m>\u001b[0m \u001b[0;36m2\u001b[0m \u001b[0;32mor\u001b[0m \u001b[0my\u001b[0m\u001b[0;34m.\u001b[0m\u001b[0mndim\u001b[0m \u001b[0;34m>\u001b[0m \u001b[0;36m2\u001b[0m\u001b[0;34m:\u001b[0m\u001b[0;34m\u001b[0m\u001b[0;34m\u001b[0m\u001b[0m\n",
            "\u001b[0;31mValueError\u001b[0m: x and y must have same first dimension, but have shapes (4, 51) and (51,)"
          ]
        },
        {
          "output_type": "display_data",
          "data": {
            "text/plain": [
              "<Figure size 1008x432 with 1 Axes>"
            ],
            "image/png": "[encoded data removed]"
          },
          "metadata": {
            "needs_background": "light"
          }
        }
      ],
      "source": [
        "plt.rcParams['figure.figsize'] = (14, 6)\n",
        "for i in range(len(Is)-1):\n",
        "  plt.plot(s_values, Is[i], label=labels[i] ,linewidth=3, color = colors[labels[i]], marker = markers[labels[i]],  markersize=15, markevery=10)\n",
        "\n",
        "\n",
        "plt.plot(s_values, Is[-1], label=\"Initial Model\" ,linewidth=3, color = jet(6), marker = \"o\",  markersize=15, markevery=10)\n",
        "\n",
        "\n",
        "#plt.legend(loc='upper right', bbox_to_anchor=(1.35, 1.04), ncol=1, fancybox=True, shadow=True)\n",
        "#plt.xlabel(r\"$\\lambda$\")\n",
        "#plt.xlim(0,0.5)\n",
        "plt.legend(fontsize=24, bbox_to_anchor=(0.1, 1))\n",
        "plt.ylim(-0.01,0.1)\n",
        "plt.grid()\n",
        "plt.title(r\"${\\cal I}_{\\theta}(a)$\")\n",
        "\n",
        "plt.savefig(\"sgd_images/rate_intro.pdf\", format = \"pdf\",bbox_inches='tight')\n",
        "plt.show()"
      ]
    },
    {
      "cell_type": "markdown",
      "source": [
        "# Deviation plots\n"
      ],
      "metadata": {
        "id": "jfk_7sD46-gN"
      }
    },
    {
      "cell_type": "code",
      "source": [
        "n = 50"
      ],
      "metadata": {
        "id": "gdRt9En06-HW"
      },
      "execution_count": 33,
      "outputs": []
    },
    {
      "cell_type": "code",
      "source": [
        "g_cuda = torch.Generator(device='cpu')\n",
        "g_cuda.manual_seed(RANDOM_SEED)\n",
        "loader = torch.utils.data.DataLoader(dataset=test_dataset,\n",
        "                          batch_size=n,\n",
        "                          generator=g_cuda,\n",
        "                          shuffle=True)\n",
        "\n"
      ],
      "metadata": {
        "id": "u-Jw2um17V0i"
      },
      "execution_count": 34,
      "outputs": []
    },
    {
      "cell_type": "code",
      "source": [
        "def eval(device, model, loader, criterion, epochs = 1):\n",
        "    losses = []\n",
        "    model.eval()\n",
        "    with torch.no_grad():\n",
        "        for _ in range(epochs):\n",
        "          for data, targets in loader:\n",
        "              data = data.to(device)\n",
        "              targets = targets.to(device)\n",
        "              logits = model(data)\n",
        "\n",
        "              loss = criterion(logits, targets) # supervised loss\n",
        "              losses.append(loss.detach().cpu().numpy())\n",
        "\n",
        "    return np.array(losses)"
      ],
      "metadata": {
        "id": "QhcRzXWc71cY"
      },
      "execution_count": 35,
      "outputs": []
    },
    {
      "cell_type": "code",
      "source": [
        "cmap = matplotlib.cm.get_cmap('Dark2')"
      ],
      "metadata": {
        "id": "YKYTsABmD2Nt"
      },
      "execution_count": 36,
      "outputs": []
    },
    {
      "cell_type": "code",
      "source": [
        "indices = [0, 3, 4]\n",
        "models = [\n",
        "    results[0],\n",
        "    results[3],\n",
        "    results[4],\n",
        "    createmodel()\n",
        "]\n",
        "\n",
        "train_losses = []\n",
        "test_losses = []\n",
        "\n",
        "for m in models:\n",
        "  train_losses.append(eval(device, m.to(device), loader, criterion, 4))\n",
        "  test_losses.append(np.mean(eval(device, m.to(device), loader, criterion)))"
      ],
      "metadata": {
        "id": "gaWq071MEr2w"
      },
      "execution_count": 37,
      "outputs": []
    },
    {
      "cell_type": "code",
      "source": [
        "s_values = [(test_losses[i] - plt.hist(np.array(train_losses)[i], bins = 50, density = True)[1])[::-1] for i in range(len(models))]\n",
        "plt.clf()"
      ],
      "metadata": {
        "id": "mtMCgg9dHx6-",
        "outputId": "34b0ed75-8140-484c-e84e-f01583f1880a",
        "colab": {
          "base_uri": "https://localhost:8080/",
          "height": 35
        }
      },
      "execution_count": 38,
      "outputs": [
        {
          "output_type": "display_data",
          "data": {
            "text/plain": [
              "<Figure size 1008x432 with 0 Axes>"
            ]
          },
          "metadata": {}
        }
      ]
    },
    {
      "cell_type": "code",
      "source": [
        "Is = [np.array([rate_function_BS(models[i].to(device), s)[0] for s in s_values[i]]) for i in range(len(models))]"
      ],
      "metadata": {
        "id": "wlOgCQZNFsCb"
      },
      "execution_count": 39,
      "outputs": []
    },
    {
      "cell_type": "code",
      "source": [
        "plt.rcParams['figure.figsize'] = (25, 6)"
      ],
      "metadata": {
        "id": "I-vVsgYHeR7P"
      },
      "execution_count": 44,
      "outputs": []
    },
    {
      "cell_type": "code",
      "source": [
        "fig, axis = plt.subplots(1, 3)\n",
        "\n",
        "for index, i in enumerate([0, 1, 3]):\n",
        "  dif = s_values[i][1]-s_values[i][0]\n",
        "\n",
        "  bars = axis[index].hist(np.array(train_losses)[i], bins = (test_losses[i] - s_values[i])[::-1], density = True, stacked = True, label=r\"$L(D, \\theta)$\", color = \"cornflowerblue\")\n",
        "\n",
        "  dif = s_values[i][1]-s_values[i][0]\n",
        "  prop = np.sum(np.exp(-n * Is[i]))*dif\n",
        "  ylims = axis[index].get_ylim()\n",
        "\n",
        "  axis[index].vlines(test_losses[i]-2*dif, 0, ylims[1], label = r\"$L(\\theta)$\", color =  cmap(1), linewidth=5)\n",
        "  axis[index].plot(-s_values[i] + test_losses[i] - 2*dif, 1/prop*np.exp(-n * Is[i]), label = r\"$e^{-n\\mathcal{I}_{\\theta}(s)}$\", color = cmap(-2), linewidth=5)\n",
        "axis[0].set_xlim(-0.1, 2.5)\n",
        "axis[1].set_xlim(-0.1, 2.5)\n",
        "#axis[2].set_xlim()\n",
        "axis[2].set_xlim(2.275, 2.33)\n",
        "plt.legend(loc='lower center', bbox_to_anchor=(-0.7, -0.3),\n",
        "          ncol=3, fancybox=True, shadow=True)\n",
        "axis[0].set_title(\"Standard\")\n",
        "axis[1].set_title(\"L2-Crop\")\n",
        "axis[2].set_title(\"Initial Model\")\n",
        "plt.savefig(\"deviations.pdf\",  bbox_inches='tight')\n",
        "plt.show()"
      ],
      "metadata": {
        "id": "Ol8apkv6a9ca",
        "outputId": "bc24db9f-3376-4826-c48d-e212fa50ee45",
        "colab": {
          "base_uri": "https://localhost:8080/",
          "height": 417
        }
      },
      "execution_count": 45,
      "outputs": [
        {
          "output_type": "display_data",
          "data": {
            "text/plain": [
              "<Figure size 1800x432 with 3 Axes>"
            ],
            "image/png": "[encoded data removed]"
          },
          "metadata": {
            "needs_background": "light"
          }
        }
      ]
    },
    {
      "cell_type": "markdown",
      "metadata": {
        "id": "VAp_1ryNFuQK"
      },
      "source": [
        "# Download Files"
      ]
    },
    {
      "cell_type": "code",
      "execution_count": 65,
      "metadata": {
        "colab": {
          "base_uri": "https://localhost:8080/"
        },
        "id": "sukeKxPbFwNK",
        "outputId": "dfde7c3c-d319-4bcf-dad9-4957c153a79f"
      },
      "outputs": [
        {
          "output_type": "stream",
          "name": "stdout",
          "text": [
            "updating: sgd_images/hist_GD.pdf (deflated 15%)\n",
            "updating: sgd_images/hist_SGD-L2.pdf (deflated 16%)\n",
            "updating: sgd_images/hist_SGD.pdf (deflated 16%)\n",
            "updating: sgd_images/jensen_epochs.pdf (deflated 9%)\n",
            "updating: sgd_images/jensen.pdf (deflated 15%)\n",
            "updating: sgd_images/KL.pdf (deflated 10%)\n",
            "updating: sgd_images/rates.pdf (deflated 13%)\n",
            "updating: sgd_images/rates_two_axes.pdf (deflated 9%)\n",
            "updating: sgd_images/sgd_inverse_rate.pdf (deflated 14%)\n",
            "updating: sgd_images/sgd_train_test.pdf (deflated 13%)\n",
            "updating: sgd_images/variance.pdf (deflated 14%)\n",
            "updating: sgd_images/sgd_test.pdf (deflated 12%)\n",
            "updating: sgd_images/sgd_train.pdf (deflated 13%)\n",
            "updating: sgd_images/hist_SGD-DA.pdf (deflated 16%)\n",
            "updating: sgd_images/hist_SGD-L2-DA.pdf (deflated 16%)\n",
            "updating: sgd_images/jensen_intro.pdf (deflated 15%)\n",
            "  adding: sgd_images/rate_intro.pdf (deflated 18%)\n",
            "  adding: sgd_images/rate.pdf (deflated 18%)\n"
          ]
        }
      ],
      "source": [
        "!zip sgd_images/images.zip sgd_images/*.pdf"
      ]
    },
    {
      "cell_type": "code",
      "execution_count": null,
      "metadata": {
        "colab": {
          "base_uri": "https://localhost:8080/",
          "height": 17
        },
        "id": "bCnAkod5D8EQ",
        "outputId": "152859cd-d016-4070-f57f-228e7cd236be"
      },
      "outputs": [
        {
          "data": {
            "application/javascript": "\n    async function download(id, filename, size) {\n      if (!google.colab.kernel.accessAllowed) {\n        return;\n      }\n      const div = document.createElement('div');\n      const label = document.createElement('label');\n      label.textContent = `Downloading \"${filename}\": `;\n      div.appendChild(label);\n      const progress = document.createElement('progress');\n      progress.max = size;\n      div.appendChild(progress);\n      document.body.appendChild(div);\n\n      const buffers = [];\n      let downloaded = 0;\n\n      const channel = await google.colab.kernel.comms.open(id);\n      // Send a message to notify the kernel that we're ready.\n      channel.send({})\n\n      for await (const message of channel.messages) {\n        // Send a message to notify the kernel that we're ready.\n        channel.send({})\n        if (message.buffers) {\n          for (const buffer of message.buffers) {\n            buffers.push(buffer);\n            downloaded += buffer.byteLength;\n            progress.value = downloaded;\n          }\n        }\n      }\n      const blob = new Blob(buffers, {type: 'application/binary'});\n      const a = document.createElement('a');\n      a.href = window.URL.createObjectURL(blob);\n      a.download = filename;\n      div.appendChild(a);\n      a.click();\n      div.remove();\n    }\n  ",
            "text/plain": [
              "<IPython.core.display.Javascript object>"
            ]
          },
          "metadata": {},
          "output_type": "display_data"
        },
        {
          "data": {
            "application/javascript": "download(\"download_d105d1e8-3893-4670-a940-12213216818b\", \"images.zip\", 238577)",
            "text/plain": [
              "<IPython.core.display.Javascript object>"
            ]
          },
          "metadata": {},
          "output_type": "display_data"
        }
      ],
      "source": [
        "files.download('sgd_images/images.zip')"
      ]
    },
    {
      "cell_type": "code",
      "execution_count": null,
      "metadata": {
        "colab": {
          "base_uri": "https://localhost:8080/"
        },
        "id": "fCvaAFgsE_Og",
        "outputId": "6c9b1a9a-2815-4a3b-b19e-d74258262952"
      },
      "outputs": [
        {
          "name": "stdout",
          "output_type": "stream",
          "text": [
            "total 2960424\n",
            "-rw-r--r-- 1 root root      8387 Apr 26 16:50 cifar_inception_SGD-DA_lr_0.01_trainsize_50000_testsize_10000_niters_10001_batchsize_250_wd_0.01_rates_rates.pickle\n",
            "-rw-r--r-- 1 root root 739410204 Apr 26 15:11 cifar_inception_SGD-DA_lr_0.01_trainsize_50000_testsize_10000_niters_10001_batchsize_250_wd_0.01_results.pickle\n",
            "-rw-r--r-- 1 root root      8387 Apr 26 16:56 cifar_inception_SGD-L2-DA_lr_0.01_trainsize_50000_testsize_10000_niters_10001_batchsize_250_wd_0.01_rates_rates.pickle\n",
            "-rw-r--r-- 1 root root 739411330 Apr 26 16:30 cifar_inception_SGD-L2-DA_lr_0.01_trainsize_50000_testsize_10000_niters_10001_batchsize_250_wd_0.01_results.pickle\n",
            "-rw-r--r-- 1 root root      8387 Apr 26 16:44 cifar_inception_SGD-L2_lr_0.01_trainsize_50000_testsize_10000_niters_10001_batchsize_250_wd_0.01_rates_rates.pickle\n",
            "-rw-r--r-- 1 root root 739411252 Apr 26 13:53 cifar_inception_SGD-L2_lr_0.01_trainsize_50000_testsize_10000_niters_10001_batchsize_250_wd_0.01_results.pickle\n",
            "-rw-r--r-- 1 root root      8387 Apr 26 16:37 cifar_inception_SGD_lr_0.01_trainsize_50000_testsize_10000_niters_10001_batchsize_250_wd_0.01_rates_rates.pickle\n",
            "-rw-r--r-- 1 root root 739409616 Apr 26 12:34 cifar_inception_SGD_lr_0.01_trainsize_50000_testsize_10000_niters_10001_batchsize_250_wd_0.01_results.pickle\n",
            "-rw-r--r-- 1 root root      7298 Apr 19 15:16 hist_GD.pdf\n",
            "-rw-r--r-- 1 root root      7008 Apr 26 17:31 hist_SGD-DA.pdf\n",
            "-rw-r--r-- 1 root root      7031 Apr 26 17:31 hist_SGD-L2-DA.pdf\n",
            "-rw-r--r-- 1 root root      7033 Apr 26 17:31 hist_SGD-L2.pdf\n",
            "-rw-r--r-- 1 root root      7031 Apr 26 17:31 hist_SGD.pdf\n",
            "-rw-r--r-- 1 root root    238577 Apr 27 17:10 images.zip\n",
            "-rw-r--r-- 1 root root     22218 Apr 26 16:31 jensen_epochs.pdf\n",
            "-rw-r--r-- 1 root root     22322 Apr 27 17:10 jensen_intro.pdf\n",
            "-rw-r--r-- 1 root root     17501 Apr 26 19:13 jensen.pdf\n",
            "-rw-r--r-- 1 root root     19459 Apr 26 17:31 KL.pdf\n",
            "-rw-r--r-- 1 root root     15964 Apr 26 17:30 rates.pdf\n",
            "-rw-r--r-- 1 root root     21859 Apr 19 15:16 rates_two_axes.pdf\n",
            "-rw-r--r-- 1 root root  36606644 Apr 27 14:29 rs_2147483647_inception_lr_0.01_trainsize_50000_testsize_10000_niters_20000_batchsize_200_wd_0.01_results.pickle\n",
            "-rw-r--r-- 1 root root  36606592 Apr 27 17:08 rs_2147483647_inception_lr_0.01_trainsize_50000_testsize_10000_niters_30000_batchsize_200_wd_0.01_results.pickle\n",
            "-rw-r--r-- 1 root root     24064 Apr 26 19:13 sgd_inverse_rate.pdf\n",
            "-rw-r--r-- 1 root root     20002 Apr 26 19:13 sgd_test.pdf\n",
            "-rw-r--r-- 1 root root     19003 Apr 26 19:13 sgd_train.pdf\n",
            "-rw-r--r-- 1 root root     28800 Apr 26 19:12 sgd_train_test.pdf\n",
            "-rw-r--r-- 1 root root     23946 Apr 26 19:13 variance.pdf\n"
          ]
        }
      ],
      "source": [
        "!ls -l sgd_images"
      ]
    },
    {
      "cell_type": "code",
      "execution_count": null,
      "metadata": {
        "id": "we-gpkLMFAiR"
      },
      "outputs": [],
      "source": []
    }
  ],
  "metadata": {
    "accelerator": "GPU",
    "colab": {
      "machine_shape": "hm",
      "provenance": [],
      "include_colab_link": true
    },
    "gpuClass": "standard",
    "kernelspec": {
      "display_name": "Python 3",
      "name": "python3"
    }
  },
  "nbformat": 4,
  "nbformat_minor": 0
}