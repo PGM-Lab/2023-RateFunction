{
  "cells": [
    {
      "cell_type": "markdown",
      "metadata": {
        "id": "view-in-github",
        "colab_type": "text"
      },
      "source": [
        "<a href=\"https://colab.research.google.com/github/PGM-Lab/2023-RateFunction/blob/main/Notebooks/Figure3left.ipynb\" target=\"_parent\"><img src=\"https://colab.research.google.com/assets/colab-badge.svg\" alt=\"Open In Colab\"/></a>"
      ]
    },
    {
      "cell_type": "code",
      "source": [
        "%%capture\n",
        "\n",
        "!sudo apt-get update\n",
        "!sudo apt install cm-super dvipng texlive-latex-extra texlive-latex-recommended\n",
        "\n"
      ],
      "metadata": {
        "id": "Sz-ZLEApeXee"
      },
      "execution_count": 1,
      "outputs": []
    },
    {
      "cell_type": "code",
      "execution_count": 2,
      "metadata": {
        "id": "vpQhjmnrOV9V"
      },
      "outputs": [],
      "source": [
        "import torch.nn as nn\n",
        "import torch.nn.functional as F\n",
        "import torch\n",
        "import torch.optim as optim\n",
        "from torchvision import datasets, transforms\n",
        "import numpy as np\n",
        "import torchvision\n",
        "from tqdm import tqdm\n",
        "import copy\n",
        "from google.colab import files\n",
        "import pickle\n",
        "\n",
        "from torch.utils.data import TensorDataset, DataLoader"
      ]
    },
    {
      "cell_type": "code",
      "execution_count": 3,
      "metadata": {
        "id": "nE8dGuROWik8"
      },
      "outputs": [],
      "source": [
        "\n",
        "import matplotlib.pyplot as plt\n",
        "import matplotlib\n",
        "import matplotlib as mpl\n",
        "from matplotlib.pyplot import figure\n",
        "\n",
        "\n",
        "def non_latex_format():\n",
        "  mpl.rcParams.update(mpl.rcParamsDefault)\n",
        "\n",
        "  matplotlib.rcParams['pdf.fonttype'] = 42\n",
        "  matplotlib.rcParams['ps.fonttype'] = 42\n",
        "  plt.rcParams['figure.figsize'] = (16, 9)\n",
        "  fontsize = 26\n",
        "  matplotlib.rcParams.update({'font.size': fontsize})\n",
        "\n",
        "def latex_format():\n",
        "  plt.rcParams.update({\n",
        "      'font.size': 10,\n",
        "      'text.usetex': True,\n",
        "      'text.latex.preamble': r'\\usepackage{amsfonts}\\usepackage{bm}'\n",
        "  })\n",
        "  mpl.rc('font',family='Times New Roman')\n",
        "  matplotlib.rcParams['pdf.fonttype'] = 42\n",
        "  matplotlib.rcParams['ps.fonttype'] = 42\n",
        "  plt.rcParams['figure.figsize'] = (16, 9)\n",
        "  fontsize = 30\n",
        "  matplotlib.rcParams.update({'font.size': fontsize})\n"
      ]
    },
    {
      "cell_type": "code",
      "source": [
        "latex_format()"
      ],
      "metadata": {
        "id": "Nkm1w839ebt3"
      },
      "execution_count": 4,
      "outputs": []
    },
    {
      "cell_type": "code",
      "execution_count": 5,
      "metadata": {
        "colab": {
          "base_uri": "https://localhost:8080/"
        },
        "id": "9VnIpdveOZv_",
        "outputId": "ff0819bf-c32c-4aee-b0b8-f257c6316796"
      },
      "outputs": [
        {
          "output_type": "stream",
          "name": "stderr",
          "text": [
            "/usr/local/lib/python3.9/dist-packages/torch/nn/_reduction.py:42: UserWarning: size_average and reduce args will be deprecated, please use reduction='none' instead.\n",
            "  warnings.warn(warning.format(ret))\n"
          ]
        }
      ],
      "source": [
        "criterion = nn.CrossEntropyLoss() # supervised classification loss\n",
        "criterion_nonreduced = nn.CrossEntropyLoss(reduce=False) # supervised classification loss"
      ]
    },
    {
      "cell_type": "code",
      "execution_count": 6,
      "metadata": {
        "colab": {
          "base_uri": "https://localhost:8080/"
        },
        "id": "YhvAg_yCB7Bn",
        "outputId": "721a4f1c-9354-4d41-fe4c-c728fd8267e0"
      },
      "outputs": [
        {
          "output_type": "stream",
          "name": "stdout",
          "text": [
            "Sun Nov  5 12:34:04 2023       \n",
            "+-----------------------------------------------------------------------------+\n",
            "| NVIDIA-SMI 525.85.12    Driver Version: 525.85.12    CUDA Version: 12.0     |\n",
            "|-------------------------------+----------------------+----------------------+\n",
            "| GPU  Name        Persistence-M| Bus-Id        Disp.A | Volatile Uncorr. ECC |\n",
            "| Fan  Temp  Perf  Pwr:Usage/Cap|         Memory-Usage | GPU-Util  Compute M. |\n",
            "|                               |                      |               MIG M. |\n",
            "|===============================+======================+======================|\n",
            "|   0  Tesla T4            Off  | 00000000:00:04.0 Off |                    0 |\n",
            "| N/A   58C    P8    11W /  70W |      0MiB / 15360MiB |      0%      Default |\n",
            "|                               |                      |                  N/A |\n",
            "+-------------------------------+----------------------+----------------------+\n",
            "                                                                               \n",
            "+-----------------------------------------------------------------------------+\n",
            "| Processes:                                                                  |\n",
            "|  GPU   GI   CI        PID   Type   Process name                  GPU Memory |\n",
            "|        ID   ID                                                   Usage      |\n",
            "|=============================================================================|\n",
            "|  No running processes found                                                 |\n",
            "+-----------------------------------------------------------------------------+\n"
          ]
        }
      ],
      "source": [
        "!nvidia-smi"
      ]
    },
    {
      "cell_type": "code",
      "execution_count": 7,
      "metadata": {
        "colab": {
          "base_uri": "https://localhost:8080/"
        },
        "id": "CbSJh8tGPHix",
        "outputId": "e295bcc7-660e-4dd4-fc9a-248f87950926"
      },
      "outputs": [
        {
          "output_type": "stream",
          "name": "stdout",
          "text": [
            "mkdir: cannot create directory ‘sgd_images’: File exists\n"
          ]
        }
      ],
      "source": [
        "!mkdir sgd_images"
      ]
    },
    {
      "cell_type": "markdown",
      "metadata": {
        "id": "hOZQW7h14OVI"
      },
      "source": [
        "# Set-Up"
      ]
    },
    {
      "cell_type": "code",
      "execution_count": 8,
      "metadata": {
        "id": "at6_Z2IiOpo6"
      },
      "outputs": [],
      "source": [
        "# LENET parameters\n",
        "RANDOM_SEED = 214748364\n",
        "SUBSET_SIZE = 50000\n",
        "TEST_SUBSET_SIZE = 10000\n",
        "N_ITERS = 1000000\n",
        "BATCH_SIZE = 250\n",
        "BATCH_SIZE_TEST = 1000\n",
        "\n",
        "EVAL = True\n",
        "\n",
        "IMG_SIZE = 28\n",
        "N_CLASSES = 10\n",
        "\n",
        "#Set to zero to disconnect L2.\n",
        "weight_decay = 0.02\n",
        "\n",
        "model_name = \"inception\""
      ]
    },
    {
      "cell_type": "code",
      "execution_count": 9,
      "metadata": {
        "id": "p9TWDXXPN9Us"
      },
      "outputs": [],
      "source": [
        "dataset_name = \"cifar\""
      ]
    },
    {
      "cell_type": "code",
      "execution_count": 10,
      "metadata": {
        "id": "NbqrJRLkKj98"
      },
      "outputs": [],
      "source": [
        "from torchvision.models import resnet50\n",
        "\n",
        "def createmodel(dropout):\n",
        "  torch.cuda.manual_seed(RANDOM_SEED)\n",
        "  torch.manual_seed(RANDOM_SEED)\n",
        "  if model_name == \"inception\":\n",
        "    return InceptionNet(10, train_dataset[0][0].shape[0], dropout=dropout)\n",
        "  if model_name == \"lenet\":\n",
        "    return LeNet5(10, train_dataset[0][0].shape[0], dropout=dropout)\n",
        "  if model_name == \"alexnet\":\n",
        "    return AlexNet(10, train_dataset[0][0].shape[0], dropout=dropout)\n",
        "  if model_name == \"mlp\":\n",
        "    return MLP(728,512,10, dropout=dropout)"
      ]
    },
    {
      "cell_type": "markdown",
      "metadata": {
        "id": "Nyjb_iYxcdCR"
      },
      "source": [
        "# Data"
      ]
    },
    {
      "cell_type": "code",
      "execution_count": 11,
      "metadata": {
        "id": "oyY5vyIknfV1"
      },
      "outputs": [],
      "source": [
        "# setup devices\n",
        "torch.manual_seed(RANDOM_SEED)\n",
        "if torch.cuda.is_available():\n",
        "    device = torch.device(\"cuda:0\")\n",
        "    torch.cuda.manual_seed(RANDOM_SEED)\n",
        "else:\n",
        "    device = torch.device(\"cpu\")"
      ]
    },
    {
      "cell_type": "code",
      "execution_count": 12,
      "metadata": {
        "colab": {
          "base_uri": "https://localhost:8080/"
        },
        "id": "hYhOgxmZAHKT",
        "outputId": "a14a1f7d-f1d6-4a41-c9b9-72d790d02013"
      },
      "outputs": [
        {
          "output_type": "stream",
          "name": "stdout",
          "text": [
            "Sun Nov  5 12:34:12 2023       \n",
            "+-----------------------------------------------------------------------------+\n",
            "| NVIDIA-SMI 525.85.12    Driver Version: 525.85.12    CUDA Version: 12.0     |\n",
            "|-------------------------------+----------------------+----------------------+\n",
            "| GPU  Name        Persistence-M| Bus-Id        Disp.A | Volatile Uncorr. ECC |\n",
            "| Fan  Temp  Perf  Pwr:Usage/Cap|         Memory-Usage | GPU-Util  Compute M. |\n",
            "|                               |                      |               MIG M. |\n",
            "|===============================+======================+======================|\n",
            "|   0  Tesla T4            Off  | 00000000:00:04.0 Off |                    0 |\n",
            "| N/A   57C    P8    11W /  70W |      3MiB / 15360MiB |      0%      Default |\n",
            "|                               |                      |                  N/A |\n",
            "+-------------------------------+----------------------+----------------------+\n",
            "                                                                               \n",
            "+-----------------------------------------------------------------------------+\n",
            "| Processes:                                                                  |\n",
            "|  GPU   GI   CI        PID   Type   Process name                  GPU Memory |\n",
            "|        ID   ID                                                   Usage      |\n",
            "|=============================================================================|\n",
            "|  No running processes found                                                 |\n",
            "+-----------------------------------------------------------------------------+\n"
          ]
        }
      ],
      "source": [
        "!nvidia-smi"
      ]
    },
    {
      "cell_type": "code",
      "execution_count": 13,
      "metadata": {
        "id": "GcDaedtejhP1"
      },
      "outputs": [],
      "source": [
        "transforms = torchvision.transforms.Compose([\n",
        "                                             torchvision.transforms.ToTensor(),\n",
        "                                             torchvision.transforms.CenterCrop(IMG_SIZE),\n",
        "                                             torchvision.transforms.Normalize((0., 0., 0.,), (1., 1., 1.)),\n",
        "])"
      ]
    },
    {
      "cell_type": "code",
      "execution_count": 14,
      "metadata": {
        "colab": {
          "base_uri": "https://localhost:8080/"
        },
        "id": "HuuLUa9BZZ0a",
        "outputId": "d6dc7297-5d5e-42d6-a487-e47f95cb9212"
      },
      "outputs": [
        {
          "output_type": "stream",
          "name": "stdout",
          "text": [
            "Files already downloaded and verified\n"
          ]
        }
      ],
      "source": [
        "if dataset_name == \"cifar\":\n",
        "\n",
        "    train_dataset = datasets.CIFAR10(root='cifar_data',\n",
        "                                    train=True,\n",
        "                                    transform=transforms,\n",
        "                                    download=True)\n",
        "\n",
        "    test_dataset = datasets.CIFAR10(root='cifar_data',\n",
        "                                    train=False,\n",
        "                                    transform=transforms)\n"
      ]
    },
    {
      "cell_type": "code",
      "execution_count": 15,
      "metadata": {
        "id": "cHBHi-EBjjQ_"
      },
      "outputs": [],
      "source": [
        "x_train = np.array([transforms(x).numpy() for x in train_dataset.data])\n",
        "x_test = np.array([transforms(x).numpy() for x in test_dataset.data])\n",
        "y_train = train_dataset.targets\n",
        "y_test = test_dataset.targets"
      ]
    },
    {
      "cell_type": "code",
      "execution_count": 16,
      "metadata": {
        "id": "SM8GsNJF2IUf"
      },
      "outputs": [],
      "source": [
        "\n",
        "shape = x_train[0].shape\n",
        "\n",
        "def permutation(x):\n",
        "    rng = np.random.default_rng(1234)\n",
        "    perm = rng.permutation(np.arange(shape[0]*shape[1]*shape[2]))\n",
        "\n",
        "    return x.reshape(x.shape[0], -1)[:, perm].reshape(x.shape[0], x.shape[1], x.shape[2], x.shape[3])\n",
        "\n",
        "\n",
        "\n"
      ]
    },
    {
      "cell_type": "code",
      "execution_count": 17,
      "metadata": {
        "id": "OfBq2EdbTTlr"
      },
      "outputs": [],
      "source": [
        "x_train_perm = permutation(x_train)\n",
        "x_test_perm = permutation(x_test)"
      ]
    },
    {
      "cell_type": "code",
      "execution_count": 18,
      "metadata": {
        "id": "v6464rTcT7tI"
      },
      "outputs": [],
      "source": [
        "train_dataset = TensorDataset(torch.tensor(x_train, dtype = torch.float32),\n",
        "                              torch.tensor(y_train))\n",
        "test_dataset = TensorDataset(torch.tensor(x_test,  dtype = torch.float32),\n",
        "                             torch.tensor(y_test))\n",
        "\n",
        "train_perm_dataset = TensorDataset(torch.tensor(x_train_perm,  dtype = torch.float32),\n",
        "                                   torch.tensor(y_train))\n",
        "test_perm_dataset = TensorDataset(torch.tensor(x_test_perm,  dtype = torch.float32),\n",
        "                                  torch.tensor(y_test))"
      ]
    },
    {
      "cell_type": "code",
      "execution_count": 19,
      "metadata": {
        "id": "Y6gG-KMGQe9J"
      },
      "outputs": [],
      "source": [
        "def moving_average(a, n=3):\n",
        "    border = np.floor(n/2).astype(int)\n",
        "    new_a = np.zeros(len(a) + 2*border)\n",
        "    new_a[:border] = a[0]\n",
        "    new_a[-border:] = a[-1]\n",
        "    new_a[border:-border] = a\n",
        "    ret = np.cumsum(new_a, dtype=float)\n",
        "    ret[n:] = ret[n:] - ret[:-n]\n",
        "    return ret[n - 1:] / n"
      ]
    },
    {
      "cell_type": "markdown",
      "metadata": {
        "id": "p-AEyg-h4SAT"
      },
      "source": [
        "# Model"
      ]
    },
    {
      "cell_type": "code",
      "execution_count": 20,
      "metadata": {
        "id": "iSy2zGI4OuIf"
      },
      "outputs": [],
      "source": [
        "class LeNet5(nn.Module):\n",
        "\n",
        "    def __init__(self, n_classes, n_channels, dropout = 0.0):\n",
        "        super(LeNet5, self).__init__()\n",
        "        torch.manual_seed(0)\n",
        "\n",
        "        self.feature_extractor = nn.Sequential(\n",
        "            nn.Conv2d(in_channels=n_channels, out_channels=6, kernel_size=5, stride=1),\n",
        "            nn.Tanh(),\n",
        "            nn.AvgPool2d(kernel_size=2),\n",
        "            nn.Conv2d(in_channels=6, out_channels=16, kernel_size=5, stride=1),\n",
        "            nn.Tanh(),\n",
        "            nn.AvgPool2d(kernel_size=2),\n",
        "            nn.Conv2d(in_channels=16, out_channels=120, kernel_size=5, stride=1),\n",
        "            nn.Tanh()\n",
        "        )\n",
        "\n",
        "        self.classifier = nn.Sequential(\n",
        "            nn.Dropout(p=dropout, inplace=True),\n",
        "            nn.Linear(in_features=120, out_features=84),\n",
        "            nn.Tanh(),\n",
        "            nn.Dropout(p=dropout, inplace=True),\n",
        "            nn.Linear(in_features=84, out_features=n_classes),\n",
        "        )\n",
        "\n",
        "\n",
        "    def forward(self, x):\n",
        "        x = self.feature_extractor(x)\n",
        "        x = torch.flatten(x, 1)\n",
        "        logits = self.classifier(x)\n",
        "        return logits"
      ]
    },
    {
      "cell_type": "code",
      "execution_count": 21,
      "metadata": {
        "id": "51gnR2Li906r"
      },
      "outputs": [],
      "source": [
        "import torch.nn as nn\n",
        "\n",
        "class MLP(nn.Module):\n",
        "    def __init__(self, input_size, hidden_size, output_size, dropout = 0.0):\n",
        "        super(MLP, self).__init__()\n",
        "        self.dropout_value = dropout\n",
        "        self.layer1 = nn.Linear(input_size, hidden_size)\n",
        "        self.layer2 = nn.Linear(hidden_size, hidden_size)\n",
        "        self.layer3 = nn.Linear(hidden_size, hidden_size)\n",
        "        self.layer4 = nn.Linear(hidden_size, output_size)\n",
        "        self.activation = nn.ReLU()\n",
        "        self.flatten = nn.Flatten()\n",
        "        self.dropout_f = nn.Dropout(p=self.dropout_value, inplace = False)\n",
        "\n",
        "    def forward(self, x):\n",
        "        x = self.flatten(x)\n",
        "        x = self.activation(self.layer1(x))\n",
        "        x = self.activation(self.layer2(x))\n",
        "        x = self.activation(self.layer3(x))\n",
        "        x = self.layer4(x)\n",
        "        return x\n"
      ]
    },
    {
      "cell_type": "code",
      "execution_count": 22,
      "metadata": {
        "id": "sYSL8QPp945J"
      },
      "outputs": [],
      "source": [
        "class ConvModule(nn.Module):\n",
        "    def __init__(self, in_channels, out_channels, kernel_size, stride, padding):\n",
        "        super(ConvModule, self).__init__()\n",
        "\n",
        "        self.conv = nn.Conv2d(in_channels, out_channels, kernel_size, stride, padding)\n",
        "        self.bn = nn.BatchNorm2d(out_channels)\n",
        "        self.act = nn.ReLU()\n",
        "\n",
        "    def forward(self, x):\n",
        "        x = self.conv(x)\n",
        "        x = self.bn(x)\n",
        "        x = self.act(x)\n",
        "        return x\n",
        "\n",
        "class InceptionModule(nn.Module):\n",
        "\n",
        "    def __init__(self, in_channels, f_1x1, f_3x3):\n",
        "        super(InceptionModule, self).__init__()\n",
        "\n",
        "        self.branch1 = nn.Sequential(\n",
        "            ConvModule(in_channels, f_1x1, kernel_size=1, stride=1, padding=0)\n",
        "        )\n",
        "\n",
        "        self.branch2 = nn.Sequential(\n",
        "            ConvModule(in_channels, f_3x3, kernel_size=3, stride=1, padding=1)\n",
        "        )\n",
        "\n",
        "    def forward(self, x):\n",
        "        branch1 = self.branch1(x)\n",
        "        branch2 = self.branch2(x)\n",
        "        return torch.cat([branch1, branch2], 1)\n",
        "\n",
        "\n",
        "class DownsampleModule(nn.Module):\n",
        "    def __init__(self, in_channels, f_3x3):\n",
        "        super(DownsampleModule, self).__init__()\n",
        "\n",
        "        self.branch1 = nn.Sequential(ConvModule(in_channels, f_3x3, kernel_size=3, stride=2, padding=0))\n",
        "        self.branch2 = nn.MaxPool2d(3, stride=2)\n",
        "\n",
        "    def forward(self, x):\n",
        "        branch1 = self.branch1(x)\n",
        "        branch2 = self.branch2(x)\n",
        "        return torch.cat([branch1, branch2], 1)\n",
        "\n",
        "class InceptionNet(nn.Module):\n",
        "    def __init__(self, num_classes, input_channels, dropout = 0.0):\n",
        "        super().__init__()\n",
        "\n",
        "        self.dropout_value = dropout\n",
        "        self.conv1 = ConvModule(in_channels =input_channels,out_channels=96, kernel_size=3, stride=1, padding=0)\n",
        "        self.inception1 = InceptionModule(in_channels=96,f_1x1=32,f_3x3=32)\n",
        "        self.inception2 = InceptionModule(in_channels=64,f_1x1=32,f_3x3=48)\n",
        "        self.down1 = DownsampleModule(in_channels=80,f_3x3=80)\n",
        "        self.inception3 = InceptionModule(in_channels=160,f_1x1=112,f_3x3=48)\n",
        "        self.inception4 = InceptionModule(in_channels=160,f_1x1=96,f_3x3=64)\n",
        "        self.inception5 = InceptionModule(in_channels=160,f_1x1=80,f_3x3=80)\n",
        "        self.inception6 = InceptionModule(in_channels=160,f_1x1=48,f_3x3=96)\n",
        "        self.down2 = DownsampleModule(in_channels=144,f_3x3=96)\n",
        "        self.inception7 = InceptionModule(in_channels=240,f_1x1=176,f_3x3=160)\n",
        "        self.inception8 = InceptionModule(in_channels=336,f_1x1=176,f_3x3=160)\n",
        "        self.meanpool = nn.AdaptiveAvgPool2d((7,7))\n",
        "        self.fc = nn.Linear(16464, num_classes)\n",
        "        self.dropout_f = nn.Dropout(p=self.dropout_value, inplace = True)\n",
        "\n",
        "    def forward(self, x):\n",
        "        x = self.conv1(x)\n",
        "        x = self.inception1(x)\n",
        "        x = self.inception2(x)\n",
        "        x = self.down1(x)\n",
        "        x = self.inception3(x)\n",
        "        x = self.inception4(x)\n",
        "        x = self.inception5(x)\n",
        "        x = self.inception6(x)\n",
        "        x = self.down2(x)\n",
        "        x = self.inception7(x)\n",
        "        x = self.inception8(x)\n",
        "        x = self.meanpool(x)\n",
        "        x = torch.flatten(x,1)\n",
        "        x = self.dropout_f(x)\n",
        "\n",
        "        x = self.fc(x)\n",
        "        return x"
      ]
    },
    {
      "cell_type": "code",
      "execution_count": 23,
      "metadata": {
        "id": "DMOtMrmzpPWM"
      },
      "outputs": [],
      "source": [
        "class AlexNet(nn.Module):\n",
        "\n",
        "    def __init__(self, num_classes, input_channels, dropout = 0.0):\n",
        "        super(AlexNet, self).__init__()\n",
        "\n",
        "        self.features = nn.Sequential(\n",
        "            nn.Conv2d(input_channels, 192, kernel_size=5, stride=4, padding=2),\n",
        "            nn.ReLU(inplace=True),\n",
        "            nn.MaxPool2d(kernel_size=3, stride=2),\n",
        "            nn.BatchNorm2d(192),\n",
        "\n",
        "            nn.Conv2d(192, 256, kernel_size=5, padding=2),\n",
        "            nn.ReLU(inplace=True),\n",
        "            nn.MaxPool2d(kernel_size=3, stride=2),\n",
        "            nn.BatchNorm2d(256),\n",
        "\n",
        "        )\n",
        "\n",
        "        self.classifier = nn.Sequential(\n",
        "            nn.Dropout(p=dropout, inplace=True),\n",
        "            nn.Linear(256, 384),\n",
        "            nn.ReLU(inplace=True),\n",
        "            nn.Dropout(p=dropout, inplace=True),\n",
        "            nn.Linear(384, 192),\n",
        "            nn.ReLU(inplace=True),\n",
        "            nn.Dropout(p=dropout, inplace=True),\n",
        "            nn.Linear(192, num_classes)\n",
        "        )\n",
        "\n",
        "    def forward(self, x):\n",
        "        x = self.features(x)\n",
        "        x = torch.flatten(x,1)\n",
        "        return self.classifier(x)"
      ]
    },
    {
      "cell_type": "markdown",
      "metadata": {
        "id": "YqfrWKuM4UBv"
      },
      "source": [
        "# Code"
      ]
    },
    {
      "cell_type": "code",
      "execution_count": 24,
      "metadata": {
        "id": "5wRVeGLDi_aE"
      },
      "outputs": [],
      "source": [
        "def get_log_p(device, model, loader):\n",
        "    cce = nn.CrossEntropyLoss(reduction = \"none\") # supervised classification loss\n",
        "    model.eval()\n",
        "    aux = []\n",
        "    with torch.no_grad():\n",
        "      for data, targets in loader:\n",
        "          data = data.to(device)\n",
        "          targets = targets.to(device)\n",
        "          logits = model(data)\n",
        "          probs = F.softmax(logits, dim=1)\n",
        "          log_p = -cce(logits, targets) # supervised loss\n",
        "          aux.append(log_p)\n",
        "    return torch.cat(aux)"
      ]
    },
    {
      "cell_type": "code",
      "execution_count": 25,
      "metadata": {
        "id": "1v5qR0R-bufv"
      },
      "outputs": [],
      "source": [
        "#Binary Search for lambdas\n",
        "def rate_function_BS(model, s_value, loader):\n",
        "  if (s_value<0):\n",
        "    min_lamb=torch.tensor(-10000).to(device)\n",
        "    max_lamb=torch.tensor(0).to(device)\n",
        "  else:\n",
        "    min_lamb=torch.tensor(0).to(device)\n",
        "    max_lamb=torch.tensor(10000).to(device)\n",
        "\n",
        "  s_value=torch.tensor(s_value).to(device)\n",
        "  log_p = get_log_p(device, model, loader)\n",
        "  return aux_rate_function_TernarySearch(log_p, s_value, min_lamb, max_lamb, 0.001)\n",
        "\n",
        "def eval_log_p(log_p, lamb, s_value):\n",
        "  jensen_val=(torch.logsumexp(lamb * log_p, 0) - torch.log(torch.tensor(log_p.shape[0], device = device)) - lamb *torch.mean(log_p))\n",
        "  return lamb*s_value - jensen_val\n",
        "\n",
        "def aux_rate_function_BinarySearch(log_p, s_value, low, high, epsilon):\n",
        "\n",
        "  while (high - low) > epsilon:\n",
        "      mid = (low + high) / 2\n",
        "      print(mid)\n",
        "      print(eval_log_p(log_p, low, s_value))\n",
        "      print(eval_log_p(log_p, mid, s_value))\n",
        "      print(eval_log_p(log_p, high, s_value))\n",
        "      print(\"--\")\n",
        "      if eval_log_p(log_p, mid, s_value) < eval_log_p(log_p, high, s_value):\n",
        "          low = mid\n",
        "      else:\n",
        "          high = mid\n",
        "\n",
        "  # Return the midpoint of the final range\n",
        "  mid = (low + high) / 2\n",
        "  return [eval_log_p(log_p, mid, s_value).detach().cpu().numpy(), mid.detach().cpu().numpy(), (mid*s_value - eval_log_p(log_p, mid, s_value)).detach().cpu().numpy()]\n",
        "\n",
        "\n",
        "def aux_rate_function_TernarySearch(log_p, s_value, low, high, epsilon):\n",
        "\n",
        "  while (high - low) > epsilon:\n",
        "    mid1 = low + (high - low) / 3\n",
        "    mid2 = high - (high - low) / 3\n",
        "\n",
        "    if eval_log_p(log_p, mid1, s_value) < eval_log_p(log_p, mid2, s_value):\n",
        "        low = mid1\n",
        "    else:\n",
        "        high = mid2\n",
        "\n",
        "  # Return the midpoint of the final range\n",
        "  mid = (low + high) / 2\n",
        "  return [eval_log_p(log_p, mid, s_value).detach().cpu().numpy(), mid.detach().cpu().numpy(), (mid*s_value - eval_log_p(log_p, mid, s_value)).detach().cpu().numpy()]\n",
        "\n",
        "import math\n",
        "def aux_rate_function_golden_section_search(log_p, s_value, a, b, epsilon):\n",
        "    \"\"\"\n",
        "    Maximizes a univariate function using the golden section search algorithm.\n",
        "\n",
        "    Parameters:\n",
        "        f (function): The function to minimize.\n",
        "        a (float): The left endpoint of the initial search interval.\n",
        "        b (float): The right endpoint of the initial search interval.\n",
        "        tol (float): The error tolerance value.\n",
        "\n",
        "    Returns:\n",
        "        float: The x-value that minimizes the function f.\n",
        "    \"\"\"\n",
        "    # Define the golden ratio\n",
        "    golden_ratio = (torch.sqrt(torch.tensor(5).to(device)) - 1) / 2\n",
        "\n",
        "    # Define the initial points\n",
        "    c = b - golden_ratio * (b - a)\n",
        "    d = a + golden_ratio * (b - a)\n",
        "\n",
        "    # Loop until the interval is small enough\n",
        "    while abs(c - d) > epsilon:\n",
        "        # Compute the function values at the new points\n",
        "        fc = eval_log_p(log_p, c, s_value)\n",
        "        fd = eval_log_p(log_p, d, s_value)\n",
        "\n",
        "        # Update the interval based on the function values\n",
        "        if fc > fd:\n",
        "            b = d\n",
        "            d = c\n",
        "            c = b - golden_ratio * (b - a)\n",
        "        else:\n",
        "            a = c\n",
        "            c = d\n",
        "            d = a + golden_ratio * (b - a)\n",
        "\n",
        "    # Return the midpoint of the final interval\n",
        "    mid = (a + b) / 2\n",
        "    return [eval_log_p(log_p, mid, s_value).detach().cpu().numpy(), mid.detach().cpu().numpy(), (mid*s_value - eval_log_p(log_p, mid, s_value)).detach().cpu().numpy()]\n"
      ]
    },
    {
      "cell_type": "code",
      "execution_count": 26,
      "metadata": {
        "id": "dGONELLhjFaN"
      },
      "outputs": [],
      "source": [
        "def eval_jensen(model, lambdas, loader):\n",
        "  log_p = get_log_p(device, model, loader)\n",
        "  return np.array(\n",
        "      [\n",
        "          (torch.logsumexp(lamb * log_p, 0) - torch.log(torch.tensor(log_p.shape[0], device = device)) - torch.mean(lamb * log_p)).detach().cpu().numpy() for lamb in lambdas\n",
        "       ])\n"
      ]
    },
    {
      "cell_type": "code",
      "execution_count": 27,
      "metadata": {
        "id": "2Pqy_Nh8QbgR"
      },
      "outputs": [],
      "source": [
        "def eval(device, model, loader, criterion):\n",
        "    correct = 0\n",
        "    total = 0\n",
        "    losses = []\n",
        "    model.eval()\n",
        "    with torch.no_grad():\n",
        "        for data, targets in loader:\n",
        "            total += targets.size(0)\n",
        "            data = data.to(device)\n",
        "            targets = targets.to(device)\n",
        "            logits = model(data)\n",
        "            probs = F.softmax(logits, dim=1)\n",
        "            predicted = torch.argmax(probs, 1)\n",
        "            correct += (predicted == targets).sum().detach().cpu().numpy()\n",
        "\n",
        "            loss = criterion(logits, targets) # supervised loss\n",
        "            losses.append(loss.detach().cpu().numpy())\n",
        "\n",
        "    return correct, total, np.mean(losses), np.var(losses)"
      ]
    },
    {
      "cell_type": "code",
      "execution_count": 28,
      "metadata": {
        "id": "7-3kJ8CWP51-"
      },
      "outputs": [],
      "source": [
        "SKIP=False\n",
        "lambdas = np.arange(-10, 10, 0.01)\n",
        "\n",
        "def train(model, train_loader, test_loader, lr):\n",
        "\n",
        "    optimizer = optim.SGD(model.parameters(), lr=lr, momentum=0.9)\n",
        "    #optimizer = optim.Adam(model.parameters(), lr=LEARNING_RATE)\n",
        "\n",
        "    scheduler = torch.optim.lr_scheduler.ExponentialLR(optimizer, gamma=0.95, verbose = False)\n",
        "\n",
        "    data_iter = iter(train_loader)\n",
        "\n",
        "    iters_per_epoch = len(data_iter)\n",
        "    tq = tqdm(range(N_ITERS))\n",
        "\n",
        "    aux_loss = 1\n",
        "\n",
        "    for it in tq:\n",
        "\n",
        "            model.train()\n",
        "\n",
        "            try:\n",
        "                inputs, target = next(data_iter)\n",
        "            except StopIteration:\n",
        "                # StopIteration is thrown if dataset ends\n",
        "                # reinitialize data loader\n",
        "                data_iter = iter(train_loader)\n",
        "                inputs, target = next(data_iter)\n",
        "\n",
        "            inputs = inputs.to(device)\n",
        "            target = target.to(device)\n",
        "\n",
        "            optimizer.zero_grad()\n",
        "\n",
        "            logits = model(inputs) # forward pass\n",
        "\n",
        "            loss = criterion(logits, target) # supervised loss\n",
        "            aux_loss += loss.detach().cpu().numpy()\n",
        "\n",
        "\n",
        "\n",
        "            tq.set_postfix({'Train cce': loss.detach().cpu().numpy()})\n",
        "\n",
        "\n",
        "            loss.backward() # computes gradients\n",
        "            optimizer.step()\n",
        "\n",
        "            if it % iters_per_epoch == 0:\n",
        "              scheduler.step()\n",
        "              if aux_loss/iters_per_epoch < 0.015:\n",
        "                print(\"Early-stopping\")\n",
        "                break\n",
        "              aux_loss = 0\n",
        "\n",
        "\n",
        "    return model"
      ]
    },
    {
      "cell_type": "markdown",
      "metadata": {
        "id": "qC3fe4Fm4WkR"
      },
      "source": [
        "# Training"
      ]
    },
    {
      "cell_type": "code",
      "execution_count": null,
      "metadata": {
        "id": "zMppZ0-v3x1j"
      },
      "outputs": [],
      "source": []
    },
    {
      "cell_type": "code",
      "execution_count": null,
      "metadata": {
        "id": "ngre2o2y3ynt"
      },
      "outputs": [],
      "source": [
        "models = []\n",
        "models.append(createmodel(dropout = 0.0).to(device))\n",
        "models.append(createmodel(dropout = 0.0).to(device))\n",
        "\n",
        "\n",
        "torch.cuda.manual_seed(RANDOM_SEED)\n",
        "torch.manual_seed(RANDOM_SEED)\n",
        "models.append(MLP(3*28*28,512,10, dropout=0.0).to(device))\n",
        "\n",
        "torch.cuda.manual_seed(RANDOM_SEED)\n",
        "torch.manual_seed(RANDOM_SEED)\n",
        "models.append(MLP(3*28*28,512,10, dropout=0.0).to(device))"
      ]
    },
    {
      "cell_type": "code",
      "execution_count": 29,
      "metadata": {
        "id": "dyBIzBEp4VFB"
      },
      "outputs": [],
      "source": [
        "train_loaders = []\n",
        "g_cuda = torch.Generator(device=\"cpu\")\n",
        "g_cuda.manual_seed(RANDOM_SEED)\n",
        "train_loaders.append(torch.utils.data.DataLoader(dataset=train_dataset,\n",
        "                          batch_size=BATCH_SIZE,\n",
        "                          generator=g_cuda,\n",
        "                          shuffle=True))\n",
        "\n",
        "g_cuda = torch.Generator(device=\"cpu\")\n",
        "g_cuda.manual_seed(RANDOM_SEED)\n",
        "train_loaders.append(torch.utils.data.DataLoader(dataset=train_perm_dataset,\n",
        "                          batch_size=BATCH_SIZE,\n",
        "                          generator=g_cuda,\n",
        "                          shuffle=True))\n",
        "\n",
        "\n",
        "g_cuda = torch.Generator(device=\"cpu\")\n",
        "g_cuda.manual_seed(RANDOM_SEED)\n",
        "train_loaders.append(torch.utils.data.DataLoader(dataset=train_dataset,\n",
        "                          batch_size=BATCH_SIZE,\n",
        "                          generator=g_cuda,\n",
        "                          shuffle=True))\n",
        "\n",
        "\n",
        "g_cuda = torch.Generator(device=\"cpu\")\n",
        "g_cuda.manual_seed(RANDOM_SEED)\n",
        "train_loaders.append(torch.utils.data.DataLoader(dataset=train_perm_dataset,\n",
        "                          batch_size=BATCH_SIZE,\n",
        "                          generator=g_cuda,\n",
        "                          shuffle=True))"
      ]
    },
    {
      "cell_type": "code",
      "execution_count": 30,
      "metadata": {
        "id": "wzJ7QD_SWIDv"
      },
      "outputs": [],
      "source": [
        "test_loaders = []\n",
        "g_cuda = torch.Generator(device=\"cpu\")\n",
        "g_cuda.manual_seed(RANDOM_SEED)\n",
        "test_loaders.append(torch.utils.data.DataLoader(dataset=test_dataset,\n",
        "                          batch_size=BATCH_SIZE,\n",
        "                          generator=g_cuda,\n",
        "                          shuffle=True))\n",
        "\n",
        "g_cuda = torch.Generator(device=\"cpu\")\n",
        "g_cuda.manual_seed(RANDOM_SEED)\n",
        "test_loaders.append(torch.utils.data.DataLoader(dataset=test_perm_dataset,\n",
        "                          batch_size=BATCH_SIZE,\n",
        "                          generator=g_cuda,\n",
        "                          shuffle=True))\n",
        "\n",
        "\n",
        "g_cuda = torch.Generator(device=\"cpu\")\n",
        "g_cuda.manual_seed(RANDOM_SEED)\n",
        "test_loaders.append(torch.utils.data.DataLoader(dataset=test_dataset,\n",
        "                          batch_size=BATCH_SIZE,\n",
        "                          generator=g_cuda,\n",
        "                          shuffle=True))\n",
        "\n",
        "\n",
        "g_cuda = torch.Generator(device=\"cpu\")\n",
        "g_cuda.manual_seed(RANDOM_SEED)\n",
        "test_loaders.append(torch.utils.data.DataLoader(dataset=test_perm_dataset,\n",
        "                          batch_size=BATCH_SIZE,\n",
        "                          generator=g_cuda,\n",
        "                          shuffle=True))"
      ]
    },
    {
      "cell_type": "code",
      "execution_count": 31,
      "metadata": {
        "id": "pVyhS1fphrA7"
      },
      "outputs": [],
      "source": [
        "n_evals = [N_ITERS//1, N_ITERS//1, N_ITERS//1, N_ITERS//1]\n",
        "labels = [\"Inception\", \"Inception-Shuffle\", \"MLP\", \"MLP-Shuffle\"]"
      ]
    },
    {
      "cell_type": "code",
      "execution_count": null,
      "metadata": {
        "colab": {
          "base_uri": "https://localhost:8080/"
        },
        "id": "sCB0el0OqDUB",
        "outputId": "b733b73a-8e03-483c-cc94-a8b9ae38ad43"
      },
      "outputs": [
        {
          "name": "stdout",
          "output_type": "stream",
          "text": [
            "Number of parameters:  1814106\n",
            "Number of parameters:  1735178\n"
          ]
        }
      ],
      "source": [
        "print(\"Number of parameters: \", sum(p.numel() for p in models[0].parameters() if p.requires_grad))\n",
        "print(\"Number of parameters: \", sum(p.numel() for p in models[-1].parameters() if p.requires_grad))"
      ]
    },
    {
      "cell_type": "code",
      "execution_count": 32,
      "metadata": {
        "colab": {
          "base_uri": "https://localhost:8080/"
        },
        "id": "3bcQymjfftBh",
        "outputId": "b7fd1e13-b972-47e7-b635-2ffe9d3b99f0"
      },
      "outputs": [
        {
          "output_type": "stream",
          "name": "stderr",
          "text": [
            "<ipython-input-32-8ae4420ecd22>:1: MatplotlibDeprecationWarning: The get_cmap function was deprecated in Matplotlib 3.7 and will be removed two minor releases later. Use ``matplotlib.colormaps[name]`` or ``matplotlib.colormaps.get_cmap(obj)`` instead.\n",
            "  jet = plt.cm.get_cmap('Dark2')\n"
          ]
        }
      ],
      "source": [
        "jet = plt.cm.get_cmap('Dark2')\n",
        "colors = {\n",
        "    \"Inception\": jet(0),\n",
        "    \"Inception-Shuffle\": jet(1),\n",
        "    \"MLP\": jet(2),\n",
        "    \"MLP-Shuffle\": jet(3),\n",
        "}\n",
        "lrs = [0.001, 0.001, 0.1, 0.1]"
      ]
    },
    {
      "cell_type": "code",
      "execution_count": 33,
      "metadata": {
        "id": "Actb-H1C_C9h"
      },
      "outputs": [],
      "source": [
        "markers = {\n",
        "    \"Inception\": 8,\n",
        "    \"Inception-Shuffle\": 9,\n",
        "    \"MLP\": 10,\n",
        "    \"MLP-Shuffle\": 11,\n",
        "}"
      ]
    },
    {
      "cell_type": "code",
      "execution_count": null,
      "metadata": {
        "colab": {
          "base_uri": "https://localhost:8080/"
        },
        "id": "yLg9Pu-rh0-v",
        "outputId": "583fcd0b-4c73-42f2-920b-175dcc6d644d"
      },
      "outputs": [
        {
          "name": "stderr",
          "output_type": "stream",
          "text": [
            "  0%|          | 3600/1000000 [06:56<32:01:56,  8.64it/s, Train cce=0.010513493]\n"
          ]
        },
        {
          "name": "stdout",
          "output_type": "stream",
          "text": [
            "Early-stopping\n"
          ]
        },
        {
          "name": "stderr",
          "output_type": "stream",
          "text": [
            "  0%|          | 3000/1000000 [05:46<31:57:25,  8.67it/s, Train cce=0.019981224]\n"
          ]
        },
        {
          "name": "stdout",
          "output_type": "stream",
          "text": [
            "Early-stopping\n"
          ]
        },
        {
          "name": "stderr",
          "output_type": "stream",
          "text": [
            "  2%|▏         | 18000/1000000 [02:19<2:07:13, 128.64it/s, Train cce=0.015670288]\n"
          ]
        },
        {
          "name": "stdout",
          "output_type": "stream",
          "text": [
            "Early-stopping\n"
          ]
        },
        {
          "name": "stderr",
          "output_type": "stream",
          "text": [
            "  2%|▏         | 20200/1000000 [08:51<7:09:37, 38.01it/s, Train cce=0.013858505]\n"
          ]
        },
        {
          "name": "stdout",
          "output_type": "stream",
          "text": [
            "Early-stopping\n"
          ]
        }
      ],
      "source": [
        "for i in range(len(models)):\n",
        "  setting_name=f\"perm_{dataset_name}_{labels[i]}_lr_{str(lrs[i])}_trainsize_{SUBSET_SIZE}_testsize_{TEST_SUBSET_SIZE}_niters_{N_ITERS}_batchsize_{BATCH_SIZE}_wd_{weight_decay}\"\n",
        "  results = train(models[i], train_loaders[i], test_loaders[i], lr = lrs[i])\n",
        "  with open(f'sgd_images/{setting_name}_results.pickle', 'wb') as handle:\n",
        "    pickle.dump(results, handle, protocol=pickle.HIGHEST_PROTOCOL)"
      ]
    },
    {
      "cell_type": "code",
      "execution_count": null,
      "metadata": {
        "id": "pWOPQZYRn9VE"
      },
      "outputs": [],
      "source": []
    },
    {
      "cell_type": "code",
      "execution_count": 34,
      "metadata": {
        "id": "khnEjnQ3jTa2"
      },
      "outputs": [],
      "source": [
        "BATCH_LOSS=0\n",
        "TRAIN_LOSS=1\n",
        "TEST_LOSS=2\n",
        "VARIANCE=3\n",
        "MODELS=4\n",
        "train_loss = [BATCH_LOSS, BATCH_LOSS, BATCH_LOSS, BATCH_LOSS]"
      ]
    },
    {
      "cell_type": "markdown",
      "metadata": {
        "id": "WaF5flD-V6zI"
      },
      "source": [
        "# Figure 1: Train & Test Evolution"
      ]
    },
    {
      "cell_type": "code",
      "execution_count": 35,
      "metadata": {
        "id": "UYkuVvrPPjUa"
      },
      "outputs": [],
      "source": [
        "models_id = [0,1,2,3]"
      ]
    },
    {
      "cell_type": "code",
      "execution_count": 37,
      "metadata": {
        "id": "pukNDT_uBiwK"
      },
      "outputs": [],
      "source": [
        "results = []\n",
        "for i in models_id:\n",
        "    setting_name=f\"perm_{dataset_name}_{labels[i]}_lr_{str(lrs[i])}_trainsize_{SUBSET_SIZE}_testsize_{TEST_SUBSET_SIZE}_niters_{N_ITERS}_batchsize_{BATCH_SIZE}_wd_{weight_decay}\"\n",
        "    with open(f\"sgd_images/{setting_name}_results.pickle\", \"rb\") as handle:\n",
        "      results.append(pickle.load(handle))"
      ]
    },
    {
      "cell_type": "code",
      "execution_count": 38,
      "metadata": {
        "colab": {
          "base_uri": "https://localhost:8080/"
        },
        "id": "aaw43_SuoBen",
        "outputId": "19a1cad4-c1b4-43e2-9a2b-4f473b0ac817"
      },
      "outputs": [
        {
          "output_type": "stream",
          "name": "stdout",
          "text": [
            "Inception\n",
            "\tTrain acc:  1.0\n",
            "\tTrain cce:  0.009399094\n",
            "\tTest acc:  0.7408\n",
            "\tTest cce:  1.007815\n",
            "Inception-Shuffle\n",
            "\tTrain acc:  1.0\n",
            "\tTrain cce:  0.009237531\n",
            "\tTest acc:  0.4246\n",
            "\tTest cce:  2.453498\n",
            "MLP\n",
            "\tTrain acc:  0.99998\n",
            "\tTrain cce:  0.014745784\n",
            "\tTest acc:  0.5169\n",
            "\tTest cce:  3.294686\n",
            "MLP-Shuffle\n",
            "\tTrain acc:  0.99996\n",
            "\tTrain cce:  0.014838463\n",
            "\tTest acc:  0.5112\n",
            "\tTest cce:  3.291436\n"
          ]
        }
      ],
      "source": [
        "for i in models_id:\n",
        "  print(labels[i])\n",
        "  correct, total, cce, _ = eval(device, results[i], train_loaders[i], criterion)\n",
        "  print(\"\\tTrain acc: \", correct/total)\n",
        "  print(\"\\tTrain cce: \", cce)\n",
        "  correct, total, cce, _ = eval(device, results[i], test_loaders[i], criterion)\n",
        "  print(\"\\tTest acc: \", correct/total)\n",
        "  print(\"\\tTest cce: \", cce)\n"
      ]
    },
    {
      "cell_type": "code",
      "execution_count": 39,
      "metadata": {
        "id": "NLrVKMbQ0UEX"
      },
      "outputs": [],
      "source": [
        "import matplotlib.pyplot as plt"
      ]
    },
    {
      "cell_type": "markdown",
      "metadata": {
        "id": "ApY2tEhCWIhi"
      },
      "source": [
        "# Figure 4: Jensen-Gap Functions Evolution"
      ]
    },
    {
      "cell_type": "code",
      "execution_count": 41,
      "metadata": {
        "colab": {
          "base_uri": "https://localhost:8080/",
          "height": 868
        },
        "id": "pTwWqThzlTzw",
        "outputId": "b933f0f3-e1c0-4c38-88c6-727e5906b322"
      },
      "outputs": [
        {
          "output_type": "display_data",
          "data": {
            "text/plain": [
              "<Figure size 1600x900 with 1 Axes>"
            ],
            "image/png": "[encoded data removed]"
          },
          "metadata": {}
        }
      ],
      "source": [
        "lambdas = np.arange(0, 0.5, 0.01)\n",
        "\n",
        "initial_inception = createmodel(dropout = 0.0).to(device)\n",
        "\n",
        "\n",
        "torch.cuda.manual_seed(RANDOM_SEED)\n",
        "torch.manual_seed(RANDOM_SEED)\n",
        "initial_mlp = MLP(3*28*28,512,10, dropout=0.0).to(device)\n",
        "\n",
        "for i in models_id:\n",
        "  jensen = eval_jensen(results[i].to(device), lambdas, test_loaders[i])\n",
        "  plt.plot(lambdas, jensen, label=labels[i],linewidth=3, color = colors[labels[i]], marker = markers[labels[i]],  markersize=15, markevery=5)\n",
        "\n",
        "\n",
        "\n",
        "jensen1 = eval_jensen(initial_inception, lambdas, test_loaders[0])\n",
        "plt.plot(lambdas, jensen1, label = \"Initial Inception\",linewidth=3, color = jet(4), marker = \"x\",  markersize=15, markevery=5)\n",
        "\n",
        "\n",
        "jensen1 = eval_jensen(initial_mlp, lambdas, test_loaders[0])\n",
        "plt.plot(lambdas, jensen1, label = \"Initial MLP\",linewidth=3, color = jet(5), marker = \"o\",  markersize=10, markevery=5)\n",
        "\n",
        "\n",
        "plt.legend()\n",
        "#plt.xlim(0,0.5)\n",
        "#plt.ylim(0,0.3)\n",
        "plt.xlabel(r\"$\\lambda$\")\n",
        "plt.grid()\n",
        "plt.title(r\"$J(\\theta,\\lambda)$\")\n",
        "plt.savefig(\"sgd_images/jensen.pdf\", format = \"pdf\",bbox_inches='tight')\n",
        "plt.show()"
      ]
    },
    {
      "cell_type": "code",
      "execution_count": 42,
      "metadata": {
        "colab": {
          "base_uri": "https://localhost:8080/"
        },
        "id": "sXsLDgNXRrlY",
        "outputId": "770faa1f-ad7a-49ea-b910-95dec8728c4a"
      },
      "outputs": [
        {
          "output_type": "stream",
          "name": "stdout",
          "text": [
            "0\n",
            "1\n",
            "2\n",
            "3\n"
          ]
        }
      ],
      "source": [
        "rates = []\n",
        "s_values = np.arange(0, 0.5, 0.01)\n",
        "\n",
        "for i in models_id:\n",
        "  print(i)\n",
        "  rates.append(np.array([rate_function_BS(results[i].to(device), s,  test_loaders[i])[0] for s in s_values]))"
      ]
    },
    {
      "cell_type": "code",
      "execution_count": 43,
      "metadata": {
        "id": "xYPrq40sS8ls"
      },
      "outputs": [],
      "source": [
        "initial_mocel = createmodel(dropout = 0.0).to(device)\n",
        "\n",
        "\n",
        "torch.cuda.manual_seed(RANDOM_SEED)\n",
        "torch.manual_seed(RANDOM_SEED)\n",
        "initial_mlp = MLP(3*28*28,512,10, dropout=0.0).to(device)\n",
        "rate_initial_mlp = np.array([rate_function_BS(initial_mlp.to(device), s,  test_loaders[0])[0] for s in s_values])\n",
        "rate_initial = np.array([rate_function_BS(initial_mocel.to(device), s, test_loaders[0])[0] for s in s_values])"
      ]
    },
    {
      "cell_type": "code",
      "source": [
        "correct, total, cce, _ = eval(device, initial_mocel, train_loaders[0], criterion)\n",
        "print(\"\\tTrain acc: \", correct/total)\n",
        "print(\"\\tTrain cce: \", cce)\n",
        "correct, total, cce, _ = eval(device, initial_mocel, test_loaders[0], criterion)\n",
        "print(\"\\tTest acc: \", correct/total)\n",
        "print(\"\\tTest cce: \", cce)"
      ],
      "metadata": {
        "colab": {
          "base_uri": "https://localhost:8080/"
        },
        "id": "zUaqtXuAg0L9",
        "outputId": "9e827dc6-425f-4761-f3a2-090041e60aa2"
      },
      "execution_count": 47,
      "outputs": [
        {
          "output_type": "stream",
          "name": "stdout",
          "text": [
            "\tTrain acc:  0.1\n",
            "\tTrain cce:  2.3026536\n",
            "\tTest acc:  0.1\n",
            "\tTest cce:  2.3026538\n"
          ]
        }
      ]
    },
    {
      "cell_type": "code",
      "source": [
        "correct, total, cce, _ = eval(device, initial_mlp, train_loaders[0], criterion)\n",
        "print(\"\\tTrain acc: \", correct/total)\n",
        "print(\"\\tTrain cce: \", cce)\n",
        "correct, total, cce, _ = eval(device, initial_mlp, test_loaders[0], criterion)\n",
        "print(\"\\tTest acc: \", correct/total)\n",
        "print(\"\\tTest cce: \", cce)"
      ],
      "metadata": {
        "colab": {
          "base_uri": "https://localhost:8080/"
        },
        "id": "BpZHdSNthEiO",
        "outputId": "b7c6c37f-7bb3-423b-8b90-add811335562"
      },
      "execution_count": 48,
      "outputs": [
        {
          "output_type": "stream",
          "name": "stdout",
          "text": [
            "\tTrain acc:  0.10092\n",
            "\tTrain cce:  2.3030384\n",
            "\tTest acc:  0.0996\n",
            "\tTest cce:  2.30288\n"
          ]
        }
      ]
    },
    {
      "cell_type": "code",
      "execution_count": 51,
      "metadata": {
        "colab": {
          "base_uri": "https://localhost:8080/",
          "height": 739
        },
        "id": "YHGG32jNSOC9",
        "outputId": "4e3f990c-5a46-418b-b575-38d7d7be1283"
      },
      "outputs": [
        {
          "output_type": "display_data",
          "data": {
            "text/plain": [
              "<Figure size 1600x750 with 1 Axes>"
            ],
            "image/png": "[encoded data removed]"
          },
          "metadata": {}
        }
      ],
      "source": [
        "plt.rcParams['figure.figsize'] = (16, 7.5)\n",
        "\n",
        "\n",
        "plt.plot(s_values, rates[0], label=labels[0],linewidth=5, color = colors[labels[0]], marker = markers[labels[0]],  markersize=20, markevery=5)\n",
        "plt.plot(s_values, rates[1], label=labels[1],linewidth=5, color = colors[labels[1]], marker = markers[labels[1]],  markersize=20, markevery=5)\n",
        "plt.plot(s_values, rate_initial, label = \"Initial Inception\",linewidth=5, color = jet(4), marker = \"x\",  markersize=20, markevery=5)\n",
        "\n",
        "plt.plot(s_values, rates[2], label=labels[2],linewidth=5, color = colors[labels[2]], marker = markers[labels[2]],  markersize=20, markevery=5)\n",
        "plt.plot(s_values, rates[3], label=labels[3],linewidth=5, color = colors[labels[3]], marker = markers[labels[3]],  markersize=20, markevery=5)\n",
        "\n",
        "plt.plot(s_values, rate_initial_mlp, label = \"Initial MLP\",linewidth=5, color = jet(5), marker = \"o\",  markersize=20, markevery=5)\n",
        "\n",
        "plt.legend(fontsize=50, loc = \"upper center\", ncol = 2,prop={'size':34})\n",
        "plt.ylim(0,0.05)\n",
        "plt.grid()\n",
        "plt.title(r\"$\\mathcal{I}_{\\bm \\theta}(a)$\")\n",
        "plt.savefig(\"sgd_images/rate.pdf\", format = \"pdf\",bbox_inches='tight')\n",
        "plt.show()"
      ]
    },
    {
      "cell_type": "markdown",
      "metadata": {
        "id": "kVfEsowqWNin"
      },
      "source": [
        "# Figure 5: Rates Evolution\n",
        "\n"
      ]
    },
    {
      "cell_type": "markdown",
      "metadata": {
        "id": "2bXIF5HrDE0t"
      },
      "source": [
        "Compute Rates"
      ]
    },
    {
      "cell_type": "code",
      "execution_count": null,
      "metadata": {
        "id": "9tjR_p73YGxx"
      },
      "outputs": [],
      "source": [
        "LEARNING_RATE = 0.001\n",
        "for i in range(len(models)):\n",
        "  setting_name=f\"perm_{dataset_name}_{labels[i]}_lr_{LEARNING_RATE}_trainsize_{SUBSET_SIZE}_testsize_{TEST_SUBSET_SIZE}_niters_{N_ITERS}_batchsize_{BATCH_SIZE}_wd_{weight_decay}_rates\"\n",
        "  rates = []\n",
        "  for j in tqdm(range(len(results[i][TEST_LOSS]))):\n",
        "    rates.append(rate_function_BS(results[i][MODELS][j].to(device), results[i][TEST_LOSS][j] - results[i][BATCH_LOSS][j], test_loaders[i]))\n",
        "  with open(f'sgd_images/{setting_name}_rates.pickle', 'wb') as handle:\n",
        "    pickle.dump(rates, handle, protocol=pickle.HIGHEST_PROTOCOL)"
      ]
    },
    {
      "cell_type": "markdown",
      "metadata": {
        "id": "1_DslH0kDHHm"
      },
      "source": [
        "Load and Figures"
      ]
    },
    {
      "cell_type": "code",
      "execution_count": null,
      "metadata": {
        "id": "SxU-AIrEDD-C"
      },
      "outputs": [],
      "source": [
        "rates = []\n",
        "\n",
        "for i in range(len(models)):\n",
        "  setting_name=f\"perm_{dataset_name}_{labels[i]}_lr_{LEARNING_RATE}_trainsize_{SUBSET_SIZE}_testsize_{TEST_SUBSET_SIZE}_niters_{N_ITERS}_batchsize_{BATCH_SIZE}_wd_{weight_decay}_rates\"\n",
        "  with open(f\"sgd_images/{setting_name}_rates.pickle\", \"rb\") as handle:\n",
        "    rates.append(pickle.load(handle))"
      ]
    },
    {
      "cell_type": "code",
      "execution_count": null,
      "metadata": {
        "id": "Eotct7NAnj2e"
      },
      "outputs": [],
      "source": [
        "for i in models_id:\n",
        "  a = [np.sign(results[i][TEST_LOSS][j] - results[i][BATCH_LOSS][j])*rates[i][j][0]*BATCH_SIZE for j in range(len(rates[i]))]\n",
        "  plt.plot(iters_number[i], a, alpha = 0.2, color = colors[labels[i]],linewidth=2.5)\n",
        "  plt.plot(iters_number[i], moving_average(a, 5), label=labels[i],  color = colors[labels[i]],linewidth=2.5)\n",
        "\n",
        "plt.legend(fontsize=20, prop={'size': 26})\n",
        "#plt.xlim(100,2500)\n",
        "plt.ylim(0, 100)\n",
        "plt.grid()\n",
        "plt.hlines(np.log(1/0.01),0,N_ITERS)\n",
        "plt.title(r\"$\\alpha(\\theta_t,B_t)$\")\n",
        "plt.savefig(\"sgd_images/rates.pdf\", format = \"pdf\",bbox_inches='tight')\n",
        "plt.show()\n"
      ]
    },
    {
      "cell_type": "code",
      "execution_count": null,
      "metadata": {
        "id": "Vo9WfxgicuxV"
      },
      "outputs": [],
      "source": [
        "# create the first plot\n",
        "fig, ax1 = plt.subplots()\n",
        "i=0\n",
        "offset = 5\n",
        "a = [np.sign(results[i][TEST_LOSS][j] - results[i][BATCH_LOSS][j])*rates[i][j][0]*BATCH_SIZE for j in range(len(rates[i]))][offset:]\n",
        "ax1.plot(iters_number[i][offset:], a, alpha = 0.2, color = colors[labels[i]],linewidth=2.5)\n",
        "ax1.plot(iters_number[i][offset:], moving_average(a, 5), label=labels[i], color = colors[labels[i]],linewidth=2.5)\n",
        "ax1.set_xlabel('Iteration')\n",
        "ax1.set_xlim(100,2500)\n",
        "#ax1.tick_params('y', colors='g')\n",
        "plt.legend(fontsize=20, prop={'size': 26})\n",
        "\n",
        "# create the second plot\n",
        "ax2 = ax1.twinx()\n",
        "for i in range(1,len(models)):\n",
        "  a = [np.sign(results[i][TEST_LOSS][j] - results[i][BATCH_LOSS][j])*rates[i][j][0]*BATCH_SIZE for j in range(len(rates[i]))]\n",
        "  ax2.plot(iters_number[i], a, alpha = 0.2, color = colors[labels[i]],linewidth=2.5)\n",
        "  ax2.plot(iters_number[i], moving_average(a, 11),label=labels[i], color = colors[labels[i]],linewidth=2.5)\n",
        "\n",
        "ax2.set_ylim(0, 100)\n",
        "ax2.set_xlim(100,2500)\n",
        "plt.legend(fontsize=20, prop={'size': 26})\n",
        "\n",
        "\n",
        "plt.hlines(np.log(1/0.01),0,N_ITERS)\n",
        "plt.title(r\"$\\alpha(\\theta_t,B_t)$\")\n",
        "plt.savefig(\"sgd_images/rates.pdf\", format = \"pdf\",bbox_inches='tight')\n",
        "plt.show()"
      ]
    },
    {
      "cell_type": "code",
      "execution_count": null,
      "metadata": {
        "id": "iLW9AbByBzcx"
      },
      "outputs": [],
      "source": [
        "# create the first plot\n",
        "fig, ax1 = plt.subplots()\n",
        "i=0\n",
        "offset = 5\n",
        "a = [np.sign(results[i][TEST_LOSS][j] - results[i][BATCH_LOSS][j])*rates[i][j][0]*BATCH_SIZE for j in range(len(rates[i]))][offset:]\n",
        "ax1.plot(iters_number[i][offset:], a, alpha = 0.2, color = colors[labels[i]],linewidth=2.5)\n",
        "ax1.plot(iters_number[i][offset:], moving_average(a, 5), label=labels[i], color = colors[labels[i]],linewidth=2.5)\n",
        "ax1.set_xlabel('Iteration')\n",
        "ax1.set_xlim(100,2500)\n",
        "#ax1.set_ylim(-30,300)\n",
        "ax1.set_ylabel(r'$r(\\theta_t,D)$')\n",
        "#ax1.tick_params('y', colors='g')\n",
        "plt.legend(fontsize=20, prop={'size': 26})\n",
        "\n",
        "# create the second plot\n",
        "ax2 = ax1.twinx()\n",
        "for i in range(1,len(models)):\n",
        "  a = [np.sign(results[i][TEST_LOSS][j] - results[i][BATCH_LOSS][j])*rates[i][j][0]*BATCH_SIZE for j in range(len(rates[i]))]\n",
        "  ax2.plot(iters_number[i], a, alpha = 0.2, color = colors[labels[i]],linewidth=2.5)\n",
        "  ax2.plot(iters_number[i], moving_average(a, 11),label=labels[i], color = colors[labels[i]],linewidth=2.5)\n",
        "\n",
        "ax2.set_ylim(0, 100)\n",
        "ax2.set_xlim(100,2500)\n",
        "ax2.set_ylabel(r'$r(\\theta_t,B_t)$')\n",
        "plt.legend(fontsize=20, prop={'size': 26})\n",
        "\n",
        "\n",
        "# show the plot\n",
        "plt.title(r\"$r(\\theta_t,B_t)$\")\n",
        "plt.grid()\n",
        "plt.hlines(np.log(1/0.01),0,N_ITERS,linewidth=2.5)\n",
        "\n",
        "plt.savefig(\"sgd_images/rates_two_axes.pdf\", format = \"pdf\",bbox_inches='tight')\n",
        "plt.show()\n",
        "\n"
      ]
    },
    {
      "cell_type": "code",
      "execution_count": null,
      "metadata": {
        "id": "6684872DWpoB"
      },
      "outputs": [],
      "source": [
        "np.log(1/0.01)"
      ]
    },
    {
      "cell_type": "markdown",
      "metadata": {
        "id": "r_PLm7EaXvK4"
      },
      "source": [
        "\n",
        "# Figure 6: KLs Evolution\n",
        "\n",
        "\n",
        "\n"
      ]
    },
    {
      "cell_type": "code",
      "execution_count": null,
      "metadata": {
        "id": "rgAO1tEhof34"
      },
      "outputs": [],
      "source": [
        "for i in models_id:\n",
        "  vec = [rates[i][j][2] for j in range(len(rates[i]))]\n",
        "  plt.plot(iters_number[i], vec, alpha = 0.2, color = colors[labels[i]], linewidth=2.5)\n",
        "  plt.plot(iters_number[i], moving_average(vec, 5), label=labels[i], color = colors[labels[i]], linewidth=2.5)\n",
        "\n",
        "plt.legend(fontsize=20, prop={'size': 26})\n",
        "#plt.ylim(0,400)\n",
        "plt.xlim(100,N_ITERS)\n",
        "#plt.xlim(0,250)\n",
        "plt.title(r\"$KL(\\nu, \\nu p^{\\lambda})$\")\n",
        "plt.grid()\n",
        "plt.savefig(\"sgd_images/KL.pdf\", format = \"pdf\",bbox_inches='tight')\n",
        "plt.show()"
      ]
    },
    {
      "cell_type": "code",
      "execution_count": null,
      "metadata": {
        "id": "INtjVw6SO3r1"
      },
      "outputs": [],
      "source": [
        "for i in models_id:\n",
        "  vec = [np.sign(results[i][TEST_LOSS][j] - results[i][BATCH_LOSS][j])*rates[i][j][0]*BATCH_SIZE for j in range(len(rates[i]))]\n",
        "  plt.hist(vec,density=True)\n",
        "  # Plot density\n",
        "  lambda_rate=1\n",
        "  x = np.linspace(0, np.log(1.0/0.01)/lambda_rate, 1000)\n",
        "  y = lambda_rate *np.exp(-lambda_rate * x)\n",
        "  plt.plot(x, y, color='red')\n",
        "  plt.plot(-x, y, color='red')\n",
        "  plt.savefig(f\"sgd_images/hist_{labels[i]}.pdf\", format = \"pdf\",bbox_inches='tight')\n",
        "  plt.show()\n"
      ]
    },
    {
      "cell_type": "code",
      "execution_count": null,
      "metadata": {
        "id": "yAqh86gxWPT7"
      },
      "outputs": [],
      "source": [
        "#Acceptance rate\n",
        "for i in range(len(models)):\n",
        "  vec = np.array([rates[i][j][0]*BATCH_SIZE for j in range(len(rates[i]))])\n",
        "  print(np.mean(np.random.uniform(0,1,vec.shape[0])<np.exp(-vec)))"
      ]
    },
    {
      "cell_type": "markdown",
      "metadata": {
        "id": "7r3-gNGIyS-Y"
      },
      "source": [
        "# Figure 7: Rates Limit"
      ]
    },
    {
      "cell_type": "code",
      "execution_count": null,
      "metadata": {
        "id": "mdlYNKZ5QW0W"
      },
      "outputs": [],
      "source": [
        "#rates_batch_lim = []\n",
        "#for i in range(len(models)):\n",
        "#  rates_batch_lim.append([rate_function_BS(results[i][MODELS][j], results[i][TEST_LOSS][j] - 0.01)[0] for j in tqdm(range(len(results[i][MODELS])))])\n"
      ]
    },
    {
      "cell_type": "code",
      "execution_count": null,
      "metadata": {
        "id": "ojyAKSxLEDxY"
      },
      "outputs": [],
      "source": [
        "#with open(f'sgd_images/{setting_name}_rates_lim.pickle', 'wb') as handle:\n",
        "#  pickle.dump(rates_batch_lim, handle, protocol=pickle.HIGHEST_PROTOCOL)"
      ]
    },
    {
      "cell_type": "code",
      "execution_count": null,
      "metadata": {
        "id": "1XWKqpAMyOIe"
      },
      "outputs": [],
      "source": [
        "#with open(f\"sgd_images/{setting_name}_rates_lim.pickle\", \"rb\") as handle:\n",
        "#  rates_batch_lim = pickle.load(handle)"
      ]
    },
    {
      "cell_type": "code",
      "execution_count": null,
      "metadata": {
        "id": "rkPH2-zuSB6y"
      },
      "outputs": [],
      "source": [
        "#for i in models_id:\n",
        "#  plt.plot(iters_number, np.array(rates_batch_lim[i]), label=labels[i])\n",
        "#  plt.plot(iters_number, [np.sign(results[i][TEST_LOSS][j] - results[i][BATCH_LOSS][j])*rates[i][j][0]*batches[i] for j in range(len(rates[i]))], label=labels[i])\n",
        "\n",
        "#plt.legend()\n",
        "#plt.grid()\n",
        "#plt.ylim(0,1)\n",
        "#plt.xlim(0,N_ITERS)\n",
        "#plt.title(\"Rate Lim-0.01\")\n"
      ]
    },
    {
      "cell_type": "markdown",
      "metadata": {
        "id": "VAp_1ryNFuQK"
      },
      "source": [
        "# Download Files"
      ]
    },
    {
      "cell_type": "code",
      "execution_count": null,
      "metadata": {
        "id": "sukeKxPbFwNK"
      },
      "outputs": [],
      "source": [
        "!zip sgd_images/images.zip sgd_images/*"
      ]
    },
    {
      "cell_type": "code",
      "execution_count": null,
      "metadata": {
        "id": "wdboRzygIbe6"
      },
      "outputs": [],
      "source": [
        "files.download('sgd_images/images.zip')"
      ]
    },
    {
      "cell_type": "code",
      "execution_count": null,
      "metadata": {
        "id": "fCvaAFgsE_Og"
      },
      "outputs": [],
      "source": [
        "!ls -l sgd_images"
      ]
    },
    {
      "cell_type": "code",
      "execution_count": null,
      "metadata": {
        "id": "we-gpkLMFAiR"
      },
      "outputs": [],
      "source": []
    }
  ],
  "metadata": {
    "accelerator": "GPU",
    "colab": {
      "machine_shape": "hm",
      "provenance": [],
      "include_colab_link": true
    },
    "gpuClass": "standard",
    "kernelspec": {
      "display_name": "Python 3",
      "name": "python3"
    }
  },
  "nbformat": 4,
  "nbformat_minor": 0
}